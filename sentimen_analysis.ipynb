{
  "nbformat": 4,
  "nbformat_minor": 0,
  "metadata": {
    "colab": {
      "provenance": [],
      "collapsed_sections": [
        "-WOzanNB6q4P",
        "Ff0eXLDcALqf",
        "ZCTQmwEJKNA0",
        "rjfkqcZr-q07",
        "TaqrMhatBCG5",
        "w0-GYa9wUVQL",
        "7TKlVoGSISs5",
        "IsiTZMmngDiL",
        "LnrAFD7LphfV",
        "VECHJEONtluZ",
        "i-rip1m5vOAg",
        "L7Z1aHqVwkNz",
        "TTMfjsdpy5xe",
        "NTNAQaSi92Kc",
        "ZYpPk9hN-Diy",
        "i57Fr6CshrF8",
        "FFiJwS3mmlQZ",
        "2pDUY11To7Gx",
        "5uCVPGDTrYGB",
        "mhLWSw1DsEFp",
        "hEw88gtSsp_O",
        "jG8jzS-Itfj-"
      ],
      "authorship_tag": "ABX9TyNk5qVumpkGzW7XxfgPyb2M",
      "include_colab_link": true
    },
    "kernelspec": {
      "name": "python3",
      "display_name": "Python 3"
    },
    "language_info": {
      "name": "python"
    }
  },
  "cells": [
    {
      "cell_type": "markdown",
      "metadata": {
        "id": "view-in-github",
        "colab_type": "text"
      },
      "source": [
        "<a href=\"https://colab.research.google.com/github/khairuldzulqarnain/machine_learning/blob/main/sentimen_analysis.ipynb\" target=\"_parent\"><img src=\"https://colab.research.google.com/assets/colab-badge.svg\" alt=\"Open In Colab\"/></a>"
      ]
    },
    {
      "cell_type": "markdown",
      "source": [
        "# **Twitter Dataset**\n",
        "\n",
        "\n",
        "\n"
      ],
      "metadata": {
        "id": "-WOzanNB6q4P"
      }
    },
    {
      "cell_type": "code",
      "execution_count": 5,
      "metadata": {
        "id": "8VwL-xPXdA4i"
      },
      "outputs": [],
      "source": [
        "import pandas as pd\n",
        "from matplotlib import pyplot as plt\n",
        "import seaborn as sns\n",
        "import numpy as np\n",
        "import re\n",
        "from nltk.corpus import stopwords\n",
        "from nltk.stem.porter import PorterStemmer\n",
        "from sklearn.model_selection import train_test_split\n",
        "from sklearn.linear_model import LogisticRegression\n",
        "\n"
      ]
    },
    {
      "cell_type": "code",
      "source": [
        "df = pd.read_csv(\"/content/sample_data/TWSentiment.csv\", sep=\";\")\n"
      ],
      "metadata": {
        "id": "e7TKnWDigoZP"
      },
      "execution_count": 6,
      "outputs": []
    },
    {
      "cell_type": "code",
      "source": [
        "df.info()"
      ],
      "metadata": {
        "colab": {
          "base_uri": "https://localhost:8080/"
        },
        "id": "B2Lb_WWth0Db",
        "outputId": "80e49d85-be2e-4df9-8238-c41ed8c9e2e5"
      },
      "execution_count": 7,
      "outputs": [
        {
          "output_type": "stream",
          "name": "stdout",
          "text": [
            "<class 'pandas.core.frame.DataFrame'>\n",
            "RangeIndex: 15912 entries, 0 to 15911\n",
            "Data columns (total 9 columns):\n",
            " #   Column          Non-Null Count  Dtype  \n",
            "---  ------          --------------  -----  \n",
            " 0   username        15912 non-null  object \n",
            " 1   date            15907 non-null  object \n",
            " 2   time            15907 non-null  object \n",
            " 3   replies_count   15907 non-null  float64\n",
            " 4   retweets_count  15911 non-null  float64\n",
            " 5   likes_count     15911 non-null  float64\n",
            " 6   steaming data   15912 non-null  object \n",
            " 7   Compound_Score  15908 non-null  float64\n",
            " 8   Sentiments      15912 non-null  object \n",
            "dtypes: float64(4), object(5)\n",
            "memory usage: 1.1+ MB\n"
          ]
        }
      ]
    },
    {
      "cell_type": "code",
      "source": [
        "df.head()"
      ],
      "metadata": {
        "colab": {
          "base_uri": "https://localhost:8080/",
          "height": 241
        },
        "id": "lnf-SfnP8bxl",
        "outputId": "f40bb5e3-f281-48b1-abfc-7a8e8760da51"
      },
      "execution_count": 8,
      "outputs": [
        {
          "output_type": "execute_result",
          "data": {
            "text/plain": [
              "        username        date      time  replies_count  retweets_count  \\\n",
              "0      tvonenews  30/08/2022  10:02:37         2964.0          4058.0   \n",
              "1    idextratime  15/02/2023  12:38:10         2715.0          4492.0   \n",
              "2       detikcom  21/09/2022  14:27:25         2360.0          1193.0   \n",
              "3  burhanmuhtadi  30/08/2022  20:20:23         1569.0         11600.0   \n",
              "4         ask rl  22/02/2023  18:40:03         1527.0           271.0   \n",
              "\n",
              "   likes_count                                      steaming data  \\\n",
              "0      19127.0  strong shock maruf conduct sexual intercourse ...   \n",
              "1      37295.0  recap of verdicts suspected of brigadier j fer...   \n",
              "2       5082.0  National Police call AKBP Arif Rahman key witn...   \n",
              "3      35064.0  confiscation of evidence of corruption in the ...   \n",
              "4       7793.0            Tanyral Bharad is pollary guys wa dya t   \n",
              "\n",
              "   Compound_Score Sentiments  \n",
              "0         -3818.0    Negatif  \n",
              "1         -6369.0    Negatif  \n",
              "2         -5574.0    Negatif  \n",
              "3         -5994.0    Negatif  \n",
              "4             0.0     Netral  "
            ],
            "text/html": [
              "\n",
              "  <div id=\"df-a0a3d386-9a9d-4c0e-98cf-9367e3f52d98\" class=\"colab-df-container\">\n",
              "    <div>\n",
              "<style scoped>\n",
              "    .dataframe tbody tr th:only-of-type {\n",
              "        vertical-align: middle;\n",
              "    }\n",
              "\n",
              "    .dataframe tbody tr th {\n",
              "        vertical-align: top;\n",
              "    }\n",
              "\n",
              "    .dataframe thead th {\n",
              "        text-align: right;\n",
              "    }\n",
              "</style>\n",
              "<table border=\"1\" class=\"dataframe\">\n",
              "  <thead>\n",
              "    <tr style=\"text-align: right;\">\n",
              "      <th></th>\n",
              "      <th>username</th>\n",
              "      <th>date</th>\n",
              "      <th>time</th>\n",
              "      <th>replies_count</th>\n",
              "      <th>retweets_count</th>\n",
              "      <th>likes_count</th>\n",
              "      <th>steaming data</th>\n",
              "      <th>Compound_Score</th>\n",
              "      <th>Sentiments</th>\n",
              "    </tr>\n",
              "  </thead>\n",
              "  <tbody>\n",
              "    <tr>\n",
              "      <th>0</th>\n",
              "      <td>tvonenews</td>\n",
              "      <td>30/08/2022</td>\n",
              "      <td>10:02:37</td>\n",
              "      <td>2964.0</td>\n",
              "      <td>4058.0</td>\n",
              "      <td>19127.0</td>\n",
              "      <td>strong shock maruf conduct sexual intercourse ...</td>\n",
              "      <td>-3818.0</td>\n",
              "      <td>Negatif</td>\n",
              "    </tr>\n",
              "    <tr>\n",
              "      <th>1</th>\n",
              "      <td>idextratime</td>\n",
              "      <td>15/02/2023</td>\n",
              "      <td>12:38:10</td>\n",
              "      <td>2715.0</td>\n",
              "      <td>4492.0</td>\n",
              "      <td>37295.0</td>\n",
              "      <td>recap of verdicts suspected of brigadier j fer...</td>\n",
              "      <td>-6369.0</td>\n",
              "      <td>Negatif</td>\n",
              "    </tr>\n",
              "    <tr>\n",
              "      <th>2</th>\n",
              "      <td>detikcom</td>\n",
              "      <td>21/09/2022</td>\n",
              "      <td>14:27:25</td>\n",
              "      <td>2360.0</td>\n",
              "      <td>1193.0</td>\n",
              "      <td>5082.0</td>\n",
              "      <td>National Police call AKBP Arif Rahman key witn...</td>\n",
              "      <td>-5574.0</td>\n",
              "      <td>Negatif</td>\n",
              "    </tr>\n",
              "    <tr>\n",
              "      <th>3</th>\n",
              "      <td>burhanmuhtadi</td>\n",
              "      <td>30/08/2022</td>\n",
              "      <td>20:20:23</td>\n",
              "      <td>1569.0</td>\n",
              "      <td>11600.0</td>\n",
              "      <td>35064.0</td>\n",
              "      <td>confiscation of evidence of corruption in the ...</td>\n",
              "      <td>-5994.0</td>\n",
              "      <td>Negatif</td>\n",
              "    </tr>\n",
              "    <tr>\n",
              "      <th>4</th>\n",
              "      <td>ask rl</td>\n",
              "      <td>22/02/2023</td>\n",
              "      <td>18:40:03</td>\n",
              "      <td>1527.0</td>\n",
              "      <td>271.0</td>\n",
              "      <td>7793.0</td>\n",
              "      <td>Tanyral Bharad is pollary guys wa dya t</td>\n",
              "      <td>0.0</td>\n",
              "      <td>Netral</td>\n",
              "    </tr>\n",
              "  </tbody>\n",
              "</table>\n",
              "</div>\n",
              "    <div class=\"colab-df-buttons\">\n",
              "\n",
              "  <div class=\"colab-df-container\">\n",
              "    <button class=\"colab-df-convert\" onclick=\"convertToInteractive('df-a0a3d386-9a9d-4c0e-98cf-9367e3f52d98')\"\n",
              "            title=\"Convert this dataframe to an interactive table.\"\n",
              "            style=\"display:none;\">\n",
              "\n",
              "  <svg xmlns=\"http://www.w3.org/2000/svg\" height=\"24px\" viewBox=\"0 -960 960 960\">\n",
              "    <path d=\"M120-120v-720h720v720H120Zm60-500h600v-160H180v160Zm220 220h160v-160H400v160Zm0 220h160v-160H400v160ZM180-400h160v-160H180v160Zm440 0h160v-160H620v160ZM180-180h160v-160H180v160Zm440 0h160v-160H620v160Z\"/>\n",
              "  </svg>\n",
              "    </button>\n",
              "\n",
              "  <style>\n",
              "    .colab-df-container {\n",
              "      display:flex;\n",
              "      gap: 12px;\n",
              "    }\n",
              "\n",
              "    .colab-df-convert {\n",
              "      background-color: #E8F0FE;\n",
              "      border: none;\n",
              "      border-radius: 50%;\n",
              "      cursor: pointer;\n",
              "      display: none;\n",
              "      fill: #1967D2;\n",
              "      height: 32px;\n",
              "      padding: 0 0 0 0;\n",
              "      width: 32px;\n",
              "    }\n",
              "\n",
              "    .colab-df-convert:hover {\n",
              "      background-color: #E2EBFA;\n",
              "      box-shadow: 0px 1px 2px rgba(60, 64, 67, 0.3), 0px 1px 3px 1px rgba(60, 64, 67, 0.15);\n",
              "      fill: #174EA6;\n",
              "    }\n",
              "\n",
              "    .colab-df-buttons div {\n",
              "      margin-bottom: 4px;\n",
              "    }\n",
              "\n",
              "    [theme=dark] .colab-df-convert {\n",
              "      background-color: #3B4455;\n",
              "      fill: #D2E3FC;\n",
              "    }\n",
              "\n",
              "    [theme=dark] .colab-df-convert:hover {\n",
              "      background-color: #434B5C;\n",
              "      box-shadow: 0px 1px 3px 1px rgba(0, 0, 0, 0.15);\n",
              "      filter: drop-shadow(0px 1px 2px rgba(0, 0, 0, 0.3));\n",
              "      fill: #FFFFFF;\n",
              "    }\n",
              "  </style>\n",
              "\n",
              "    <script>\n",
              "      const buttonEl =\n",
              "        document.querySelector('#df-a0a3d386-9a9d-4c0e-98cf-9367e3f52d98 button.colab-df-convert');\n",
              "      buttonEl.style.display =\n",
              "        google.colab.kernel.accessAllowed ? 'block' : 'none';\n",
              "\n",
              "      async function convertToInteractive(key) {\n",
              "        const element = document.querySelector('#df-a0a3d386-9a9d-4c0e-98cf-9367e3f52d98');\n",
              "        const dataTable =\n",
              "          await google.colab.kernel.invokeFunction('convertToInteractive',\n",
              "                                                    [key], {});\n",
              "        if (!dataTable) return;\n",
              "\n",
              "        const docLinkHtml = 'Like what you see? Visit the ' +\n",
              "          '<a target=\"_blank\" href=https://colab.research.google.com/notebooks/data_table.ipynb>data table notebook</a>'\n",
              "          + ' to learn more about interactive tables.';\n",
              "        element.innerHTML = '';\n",
              "        dataTable['output_type'] = 'display_data';\n",
              "        await google.colab.output.renderOutput(dataTable, element);\n",
              "        const docLink = document.createElement('div');\n",
              "        docLink.innerHTML = docLinkHtml;\n",
              "        element.appendChild(docLink);\n",
              "      }\n",
              "    </script>\n",
              "  </div>\n",
              "\n",
              "\n",
              "<div id=\"df-63d60107-c67b-4bc4-ae19-06166b85e1fc\">\n",
              "  <button class=\"colab-df-quickchart\" onclick=\"quickchart('df-63d60107-c67b-4bc4-ae19-06166b85e1fc')\"\n",
              "            title=\"Suggest charts\"\n",
              "            style=\"display:none;\">\n",
              "\n",
              "<svg xmlns=\"http://www.w3.org/2000/svg\" height=\"24px\"viewBox=\"0 0 24 24\"\n",
              "     width=\"24px\">\n",
              "    <g>\n",
              "        <path d=\"M19 3H5c-1.1 0-2 .9-2 2v14c0 1.1.9 2 2 2h14c1.1 0 2-.9 2-2V5c0-1.1-.9-2-2-2zM9 17H7v-7h2v7zm4 0h-2V7h2v10zm4 0h-2v-4h2v4z\"/>\n",
              "    </g>\n",
              "</svg>\n",
              "  </button>\n",
              "\n",
              "<style>\n",
              "  .colab-df-quickchart {\n",
              "      --bg-color: #E8F0FE;\n",
              "      --fill-color: #1967D2;\n",
              "      --hover-bg-color: #E2EBFA;\n",
              "      --hover-fill-color: #174EA6;\n",
              "      --disabled-fill-color: #AAA;\n",
              "      --disabled-bg-color: #DDD;\n",
              "  }\n",
              "\n",
              "  [theme=dark] .colab-df-quickchart {\n",
              "      --bg-color: #3B4455;\n",
              "      --fill-color: #D2E3FC;\n",
              "      --hover-bg-color: #434B5C;\n",
              "      --hover-fill-color: #FFFFFF;\n",
              "      --disabled-bg-color: #3B4455;\n",
              "      --disabled-fill-color: #666;\n",
              "  }\n",
              "\n",
              "  .colab-df-quickchart {\n",
              "    background-color: var(--bg-color);\n",
              "    border: none;\n",
              "    border-radius: 50%;\n",
              "    cursor: pointer;\n",
              "    display: none;\n",
              "    fill: var(--fill-color);\n",
              "    height: 32px;\n",
              "    padding: 0;\n",
              "    width: 32px;\n",
              "  }\n",
              "\n",
              "  .colab-df-quickchart:hover {\n",
              "    background-color: var(--hover-bg-color);\n",
              "    box-shadow: 0 1px 2px rgba(60, 64, 67, 0.3), 0 1px 3px 1px rgba(60, 64, 67, 0.15);\n",
              "    fill: var(--button-hover-fill-color);\n",
              "  }\n",
              "\n",
              "  .colab-df-quickchart-complete:disabled,\n",
              "  .colab-df-quickchart-complete:disabled:hover {\n",
              "    background-color: var(--disabled-bg-color);\n",
              "    fill: var(--disabled-fill-color);\n",
              "    box-shadow: none;\n",
              "  }\n",
              "\n",
              "  .colab-df-spinner {\n",
              "    border: 2px solid var(--fill-color);\n",
              "    border-color: transparent;\n",
              "    border-bottom-color: var(--fill-color);\n",
              "    animation:\n",
              "      spin 1s steps(1) infinite;\n",
              "  }\n",
              "\n",
              "  @keyframes spin {\n",
              "    0% {\n",
              "      border-color: transparent;\n",
              "      border-bottom-color: var(--fill-color);\n",
              "      border-left-color: var(--fill-color);\n",
              "    }\n",
              "    20% {\n",
              "      border-color: transparent;\n",
              "      border-left-color: var(--fill-color);\n",
              "      border-top-color: var(--fill-color);\n",
              "    }\n",
              "    30% {\n",
              "      border-color: transparent;\n",
              "      border-left-color: var(--fill-color);\n",
              "      border-top-color: var(--fill-color);\n",
              "      border-right-color: var(--fill-color);\n",
              "    }\n",
              "    40% {\n",
              "      border-color: transparent;\n",
              "      border-right-color: var(--fill-color);\n",
              "      border-top-color: var(--fill-color);\n",
              "    }\n",
              "    60% {\n",
              "      border-color: transparent;\n",
              "      border-right-color: var(--fill-color);\n",
              "    }\n",
              "    80% {\n",
              "      border-color: transparent;\n",
              "      border-right-color: var(--fill-color);\n",
              "      border-bottom-color: var(--fill-color);\n",
              "    }\n",
              "    90% {\n",
              "      border-color: transparent;\n",
              "      border-bottom-color: var(--fill-color);\n",
              "    }\n",
              "  }\n",
              "</style>\n",
              "\n",
              "  <script>\n",
              "    async function quickchart(key) {\n",
              "      const quickchartButtonEl =\n",
              "        document.querySelector('#' + key + ' button');\n",
              "      quickchartButtonEl.disabled = true;  // To prevent multiple clicks.\n",
              "      quickchartButtonEl.classList.add('colab-df-spinner');\n",
              "      try {\n",
              "        const charts = await google.colab.kernel.invokeFunction(\n",
              "            'suggestCharts', [key], {});\n",
              "      } catch (error) {\n",
              "        console.error('Error during call to suggestCharts:', error);\n",
              "      }\n",
              "      quickchartButtonEl.classList.remove('colab-df-spinner');\n",
              "      quickchartButtonEl.classList.add('colab-df-quickchart-complete');\n",
              "    }\n",
              "    (() => {\n",
              "      let quickchartButtonEl =\n",
              "        document.querySelector('#df-63d60107-c67b-4bc4-ae19-06166b85e1fc button');\n",
              "      quickchartButtonEl.style.display =\n",
              "        google.colab.kernel.accessAllowed ? 'block' : 'none';\n",
              "    })();\n",
              "  </script>\n",
              "</div>\n",
              "    </div>\n",
              "  </div>\n"
            ],
            "application/vnd.google.colaboratory.intrinsic+json": {
              "type": "dataframe",
              "variable_name": "df",
              "summary": "{\n  \"name\": \"df\",\n  \"rows\": 15912,\n  \"fields\": [\n    {\n      \"column\": \"username\",\n      \"properties\": {\n        \"dtype\": \"category\",\n        \"num_unique_values\": 6292,\n        \"samples\": [\n          \"in the future\",\n          \"ksmcakep\",\n          \"cullenscent\"\n        ],\n        \"semantic_type\": \"\",\n        \"description\": \"\"\n      }\n    },\n    {\n      \"column\": \"date\",\n      \"properties\": {\n        \"dtype\": \"object\",\n        \"num_unique_values\": 236,\n        \"samples\": [\n          \"05/12/2022\",\n          \"02/01/2023\",\n          \"14/01/2023\"\n        ],\n        \"semantic_type\": \"\",\n        \"description\": \"\"\n      }\n    },\n    {\n      \"column\": \"time\",\n      \"properties\": {\n        \"dtype\": \"object\",\n        \"num_unique_values\": 14036,\n        \"samples\": [\n          \"18:02:09\",\n          \"13:29:18\",\n          \"21:14:43\"\n        ],\n        \"semantic_type\": \"\",\n        \"description\": \"\"\n      }\n    },\n    {\n      \"column\": \"replies_count\",\n      \"properties\": {\n        \"dtype\": \"number\",\n        \"std\": 54.868946972967024,\n        \"min\": 1.0,\n        \"max\": 2964.0,\n        \"num_unique_values\": 242,\n        \"samples\": [\n          463.0,\n          1186.0,\n          91.0\n        ],\n        \"semantic_type\": \"\",\n        \"description\": \"\"\n      }\n    },\n    {\n      \"column\": \"retweets_count\",\n      \"properties\": {\n        \"dtype\": \"number\",\n        \"std\": 159.33777382791783,\n        \"min\": 0.0,\n        \"max\": 11600.0,\n        \"num_unique_values\": 344,\n        \"samples\": [\n          11.0,\n          391.0,\n          81.0\n        ],\n        \"semantic_type\": \"\",\n        \"description\": \"\"\n      }\n    },\n    {\n      \"column\": \"likes_count\",\n      \"properties\": {\n        \"dtype\": \"number\",\n        \"std\": 714.4035416854426,\n        \"min\": 0.0,\n        \"max\": 42027.0,\n        \"num_unique_values\": 688,\n        \"samples\": [\n          41.0,\n          288.0,\n          91.0\n        ],\n        \"semantic_type\": \"\",\n        \"description\": \"\"\n      }\n    },\n    {\n      \"column\": \"steaming data\",\n      \"properties\": {\n        \"dtype\": \"string\",\n        \"num_unique_values\": 15897,\n        \"samples\": [\n          \"list of witnesses present at trial bharada e love brigadier parents j\",\n          \"Komnas HAM, the history of communication at the Sambo House\",\n          \"It should be a family event, Brigadier J. Read the article, the paragraph, the paragraph, the verse that was not misleading, the Criminal Code had no impact on breaking up, Ferdi Sambo wrote hook\"\n        ],\n        \"semantic_type\": \"\",\n        \"description\": \"\"\n      }\n    },\n    {\n      \"column\": \"Compound_Score\",\n      \"properties\": {\n        \"dtype\": \"number\",\n        \"std\": 4713.857790134213,\n        \"min\": -9895.0,\n        \"max\": 9737.0,\n        \"num_unique_values\": 1561,\n        \"samples\": [\n          -5158.0,\n          8646.0,\n          6326.0\n        ],\n        \"semantic_type\": \"\",\n        \"description\": \"\"\n      }\n    },\n    {\n      \"column\": \"Sentiments\",\n      \"properties\": {\n        \"dtype\": \"category\",\n        \"num_unique_values\": 8,\n        \"samples\": [\n          \"Netral\",\n          \"-0.0803\",\n          \"Negatif\"\n        ],\n        \"semantic_type\": \"\",\n        \"description\": \"\"\n      }\n    }\n  ]\n}"
            }
          },
          "metadata": {},
          "execution_count": 8
        }
      ]
    },
    {
      "cell_type": "code",
      "source": [
        "df['Sentiments'] = df['Sentiments'].replace('Negatif', 'Negative')\n",
        "df['Sentiments'] = df['Sentiments'].replace('Positif', 'Positive')\n",
        "df['Sentiments'] = df['Sentiments'].replace('Netral', 'Neutral')"
      ],
      "metadata": {
        "id": "CQ6L9AsAlkK4"
      },
      "execution_count": 9,
      "outputs": []
    },
    {
      "cell_type": "code",
      "source": [
        "df.head()"
      ],
      "metadata": {
        "colab": {
          "base_uri": "https://localhost:8080/",
          "height": 241
        },
        "id": "EF1j0swKlnHo",
        "outputId": "81a5e78c-e445-49d7-8c36-3f7810f17e68"
      },
      "execution_count": 10,
      "outputs": [
        {
          "output_type": "execute_result",
          "data": {
            "text/plain": [
              "        username        date      time  replies_count  retweets_count  \\\n",
              "0      tvonenews  30/08/2022  10:02:37         2964.0          4058.0   \n",
              "1    idextratime  15/02/2023  12:38:10         2715.0          4492.0   \n",
              "2       detikcom  21/09/2022  14:27:25         2360.0          1193.0   \n",
              "3  burhanmuhtadi  30/08/2022  20:20:23         1569.0         11600.0   \n",
              "4         ask rl  22/02/2023  18:40:03         1527.0           271.0   \n",
              "\n",
              "   likes_count                                      steaming data  \\\n",
              "0      19127.0  strong shock maruf conduct sexual intercourse ...   \n",
              "1      37295.0  recap of verdicts suspected of brigadier j fer...   \n",
              "2       5082.0  National Police call AKBP Arif Rahman key witn...   \n",
              "3      35064.0  confiscation of evidence of corruption in the ...   \n",
              "4       7793.0            Tanyral Bharad is pollary guys wa dya t   \n",
              "\n",
              "   Compound_Score Sentiments  \n",
              "0         -3818.0   Negative  \n",
              "1         -6369.0   Negative  \n",
              "2         -5574.0   Negative  \n",
              "3         -5994.0   Negative  \n",
              "4             0.0    Neutral  "
            ],
            "text/html": [
              "\n",
              "  <div id=\"df-37c5427c-8f0c-412b-a30d-d1c55556d7f2\" class=\"colab-df-container\">\n",
              "    <div>\n",
              "<style scoped>\n",
              "    .dataframe tbody tr th:only-of-type {\n",
              "        vertical-align: middle;\n",
              "    }\n",
              "\n",
              "    .dataframe tbody tr th {\n",
              "        vertical-align: top;\n",
              "    }\n",
              "\n",
              "    .dataframe thead th {\n",
              "        text-align: right;\n",
              "    }\n",
              "</style>\n",
              "<table border=\"1\" class=\"dataframe\">\n",
              "  <thead>\n",
              "    <tr style=\"text-align: right;\">\n",
              "      <th></th>\n",
              "      <th>username</th>\n",
              "      <th>date</th>\n",
              "      <th>time</th>\n",
              "      <th>replies_count</th>\n",
              "      <th>retweets_count</th>\n",
              "      <th>likes_count</th>\n",
              "      <th>steaming data</th>\n",
              "      <th>Compound_Score</th>\n",
              "      <th>Sentiments</th>\n",
              "    </tr>\n",
              "  </thead>\n",
              "  <tbody>\n",
              "    <tr>\n",
              "      <th>0</th>\n",
              "      <td>tvonenews</td>\n",
              "      <td>30/08/2022</td>\n",
              "      <td>10:02:37</td>\n",
              "      <td>2964.0</td>\n",
              "      <td>4058.0</td>\n",
              "      <td>19127.0</td>\n",
              "      <td>strong shock maruf conduct sexual intercourse ...</td>\n",
              "      <td>-3818.0</td>\n",
              "      <td>Negative</td>\n",
              "    </tr>\n",
              "    <tr>\n",
              "      <th>1</th>\n",
              "      <td>idextratime</td>\n",
              "      <td>15/02/2023</td>\n",
              "      <td>12:38:10</td>\n",
              "      <td>2715.0</td>\n",
              "      <td>4492.0</td>\n",
              "      <td>37295.0</td>\n",
              "      <td>recap of verdicts suspected of brigadier j fer...</td>\n",
              "      <td>-6369.0</td>\n",
              "      <td>Negative</td>\n",
              "    </tr>\n",
              "    <tr>\n",
              "      <th>2</th>\n",
              "      <td>detikcom</td>\n",
              "      <td>21/09/2022</td>\n",
              "      <td>14:27:25</td>\n",
              "      <td>2360.0</td>\n",
              "      <td>1193.0</td>\n",
              "      <td>5082.0</td>\n",
              "      <td>National Police call AKBP Arif Rahman key witn...</td>\n",
              "      <td>-5574.0</td>\n",
              "      <td>Negative</td>\n",
              "    </tr>\n",
              "    <tr>\n",
              "      <th>3</th>\n",
              "      <td>burhanmuhtadi</td>\n",
              "      <td>30/08/2022</td>\n",
              "      <td>20:20:23</td>\n",
              "      <td>1569.0</td>\n",
              "      <td>11600.0</td>\n",
              "      <td>35064.0</td>\n",
              "      <td>confiscation of evidence of corruption in the ...</td>\n",
              "      <td>-5994.0</td>\n",
              "      <td>Negative</td>\n",
              "    </tr>\n",
              "    <tr>\n",
              "      <th>4</th>\n",
              "      <td>ask rl</td>\n",
              "      <td>22/02/2023</td>\n",
              "      <td>18:40:03</td>\n",
              "      <td>1527.0</td>\n",
              "      <td>271.0</td>\n",
              "      <td>7793.0</td>\n",
              "      <td>Tanyral Bharad is pollary guys wa dya t</td>\n",
              "      <td>0.0</td>\n",
              "      <td>Neutral</td>\n",
              "    </tr>\n",
              "  </tbody>\n",
              "</table>\n",
              "</div>\n",
              "    <div class=\"colab-df-buttons\">\n",
              "\n",
              "  <div class=\"colab-df-container\">\n",
              "    <button class=\"colab-df-convert\" onclick=\"convertToInteractive('df-37c5427c-8f0c-412b-a30d-d1c55556d7f2')\"\n",
              "            title=\"Convert this dataframe to an interactive table.\"\n",
              "            style=\"display:none;\">\n",
              "\n",
              "  <svg xmlns=\"http://www.w3.org/2000/svg\" height=\"24px\" viewBox=\"0 -960 960 960\">\n",
              "    <path d=\"M120-120v-720h720v720H120Zm60-500h600v-160H180v160Zm220 220h160v-160H400v160Zm0 220h160v-160H400v160ZM180-400h160v-160H180v160Zm440 0h160v-160H620v160ZM180-180h160v-160H180v160Zm440 0h160v-160H620v160Z\"/>\n",
              "  </svg>\n",
              "    </button>\n",
              "\n",
              "  <style>\n",
              "    .colab-df-container {\n",
              "      display:flex;\n",
              "      gap: 12px;\n",
              "    }\n",
              "\n",
              "    .colab-df-convert {\n",
              "      background-color: #E8F0FE;\n",
              "      border: none;\n",
              "      border-radius: 50%;\n",
              "      cursor: pointer;\n",
              "      display: none;\n",
              "      fill: #1967D2;\n",
              "      height: 32px;\n",
              "      padding: 0 0 0 0;\n",
              "      width: 32px;\n",
              "    }\n",
              "\n",
              "    .colab-df-convert:hover {\n",
              "      background-color: #E2EBFA;\n",
              "      box-shadow: 0px 1px 2px rgba(60, 64, 67, 0.3), 0px 1px 3px 1px rgba(60, 64, 67, 0.15);\n",
              "      fill: #174EA6;\n",
              "    }\n",
              "\n",
              "    .colab-df-buttons div {\n",
              "      margin-bottom: 4px;\n",
              "    }\n",
              "\n",
              "    [theme=dark] .colab-df-convert {\n",
              "      background-color: #3B4455;\n",
              "      fill: #D2E3FC;\n",
              "    }\n",
              "\n",
              "    [theme=dark] .colab-df-convert:hover {\n",
              "      background-color: #434B5C;\n",
              "      box-shadow: 0px 1px 3px 1px rgba(0, 0, 0, 0.15);\n",
              "      filter: drop-shadow(0px 1px 2px rgba(0, 0, 0, 0.3));\n",
              "      fill: #FFFFFF;\n",
              "    }\n",
              "  </style>\n",
              "\n",
              "    <script>\n",
              "      const buttonEl =\n",
              "        document.querySelector('#df-37c5427c-8f0c-412b-a30d-d1c55556d7f2 button.colab-df-convert');\n",
              "      buttonEl.style.display =\n",
              "        google.colab.kernel.accessAllowed ? 'block' : 'none';\n",
              "\n",
              "      async function convertToInteractive(key) {\n",
              "        const element = document.querySelector('#df-37c5427c-8f0c-412b-a30d-d1c55556d7f2');\n",
              "        const dataTable =\n",
              "          await google.colab.kernel.invokeFunction('convertToInteractive',\n",
              "                                                    [key], {});\n",
              "        if (!dataTable) return;\n",
              "\n",
              "        const docLinkHtml = 'Like what you see? Visit the ' +\n",
              "          '<a target=\"_blank\" href=https://colab.research.google.com/notebooks/data_table.ipynb>data table notebook</a>'\n",
              "          + ' to learn more about interactive tables.';\n",
              "        element.innerHTML = '';\n",
              "        dataTable['output_type'] = 'display_data';\n",
              "        await google.colab.output.renderOutput(dataTable, element);\n",
              "        const docLink = document.createElement('div');\n",
              "        docLink.innerHTML = docLinkHtml;\n",
              "        element.appendChild(docLink);\n",
              "      }\n",
              "    </script>\n",
              "  </div>\n",
              "\n",
              "\n",
              "<div id=\"df-fc4bc8ad-14b7-46aa-9790-c3535d79f335\">\n",
              "  <button class=\"colab-df-quickchart\" onclick=\"quickchart('df-fc4bc8ad-14b7-46aa-9790-c3535d79f335')\"\n",
              "            title=\"Suggest charts\"\n",
              "            style=\"display:none;\">\n",
              "\n",
              "<svg xmlns=\"http://www.w3.org/2000/svg\" height=\"24px\"viewBox=\"0 0 24 24\"\n",
              "     width=\"24px\">\n",
              "    <g>\n",
              "        <path d=\"M19 3H5c-1.1 0-2 .9-2 2v14c0 1.1.9 2 2 2h14c1.1 0 2-.9 2-2V5c0-1.1-.9-2-2-2zM9 17H7v-7h2v7zm4 0h-2V7h2v10zm4 0h-2v-4h2v4z\"/>\n",
              "    </g>\n",
              "</svg>\n",
              "  </button>\n",
              "\n",
              "<style>\n",
              "  .colab-df-quickchart {\n",
              "      --bg-color: #E8F0FE;\n",
              "      --fill-color: #1967D2;\n",
              "      --hover-bg-color: #E2EBFA;\n",
              "      --hover-fill-color: #174EA6;\n",
              "      --disabled-fill-color: #AAA;\n",
              "      --disabled-bg-color: #DDD;\n",
              "  }\n",
              "\n",
              "  [theme=dark] .colab-df-quickchart {\n",
              "      --bg-color: #3B4455;\n",
              "      --fill-color: #D2E3FC;\n",
              "      --hover-bg-color: #434B5C;\n",
              "      --hover-fill-color: #FFFFFF;\n",
              "      --disabled-bg-color: #3B4455;\n",
              "      --disabled-fill-color: #666;\n",
              "  }\n",
              "\n",
              "  .colab-df-quickchart {\n",
              "    background-color: var(--bg-color);\n",
              "    border: none;\n",
              "    border-radius: 50%;\n",
              "    cursor: pointer;\n",
              "    display: none;\n",
              "    fill: var(--fill-color);\n",
              "    height: 32px;\n",
              "    padding: 0;\n",
              "    width: 32px;\n",
              "  }\n",
              "\n",
              "  .colab-df-quickchart:hover {\n",
              "    background-color: var(--hover-bg-color);\n",
              "    box-shadow: 0 1px 2px rgba(60, 64, 67, 0.3), 0 1px 3px 1px rgba(60, 64, 67, 0.15);\n",
              "    fill: var(--button-hover-fill-color);\n",
              "  }\n",
              "\n",
              "  .colab-df-quickchart-complete:disabled,\n",
              "  .colab-df-quickchart-complete:disabled:hover {\n",
              "    background-color: var(--disabled-bg-color);\n",
              "    fill: var(--disabled-fill-color);\n",
              "    box-shadow: none;\n",
              "  }\n",
              "\n",
              "  .colab-df-spinner {\n",
              "    border: 2px solid var(--fill-color);\n",
              "    border-color: transparent;\n",
              "    border-bottom-color: var(--fill-color);\n",
              "    animation:\n",
              "      spin 1s steps(1) infinite;\n",
              "  }\n",
              "\n",
              "  @keyframes spin {\n",
              "    0% {\n",
              "      border-color: transparent;\n",
              "      border-bottom-color: var(--fill-color);\n",
              "      border-left-color: var(--fill-color);\n",
              "    }\n",
              "    20% {\n",
              "      border-color: transparent;\n",
              "      border-left-color: var(--fill-color);\n",
              "      border-top-color: var(--fill-color);\n",
              "    }\n",
              "    30% {\n",
              "      border-color: transparent;\n",
              "      border-left-color: var(--fill-color);\n",
              "      border-top-color: var(--fill-color);\n",
              "      border-right-color: var(--fill-color);\n",
              "    }\n",
              "    40% {\n",
              "      border-color: transparent;\n",
              "      border-right-color: var(--fill-color);\n",
              "      border-top-color: var(--fill-color);\n",
              "    }\n",
              "    60% {\n",
              "      border-color: transparent;\n",
              "      border-right-color: var(--fill-color);\n",
              "    }\n",
              "    80% {\n",
              "      border-color: transparent;\n",
              "      border-right-color: var(--fill-color);\n",
              "      border-bottom-color: var(--fill-color);\n",
              "    }\n",
              "    90% {\n",
              "      border-color: transparent;\n",
              "      border-bottom-color: var(--fill-color);\n",
              "    }\n",
              "  }\n",
              "</style>\n",
              "\n",
              "  <script>\n",
              "    async function quickchart(key) {\n",
              "      const quickchartButtonEl =\n",
              "        document.querySelector('#' + key + ' button');\n",
              "      quickchartButtonEl.disabled = true;  // To prevent multiple clicks.\n",
              "      quickchartButtonEl.classList.add('colab-df-spinner');\n",
              "      try {\n",
              "        const charts = await google.colab.kernel.invokeFunction(\n",
              "            'suggestCharts', [key], {});\n",
              "      } catch (error) {\n",
              "        console.error('Error during call to suggestCharts:', error);\n",
              "      }\n",
              "      quickchartButtonEl.classList.remove('colab-df-spinner');\n",
              "      quickchartButtonEl.classList.add('colab-df-quickchart-complete');\n",
              "    }\n",
              "    (() => {\n",
              "      let quickchartButtonEl =\n",
              "        document.querySelector('#df-fc4bc8ad-14b7-46aa-9790-c3535d79f335 button');\n",
              "      quickchartButtonEl.style.display =\n",
              "        google.colab.kernel.accessAllowed ? 'block' : 'none';\n",
              "    })();\n",
              "  </script>\n",
              "</div>\n",
              "    </div>\n",
              "  </div>\n"
            ],
            "application/vnd.google.colaboratory.intrinsic+json": {
              "type": "dataframe",
              "variable_name": "df",
              "summary": "{\n  \"name\": \"df\",\n  \"rows\": 15912,\n  \"fields\": [\n    {\n      \"column\": \"username\",\n      \"properties\": {\n        \"dtype\": \"category\",\n        \"num_unique_values\": 6292,\n        \"samples\": [\n          \"in the future\",\n          \"ksmcakep\",\n          \"cullenscent\"\n        ],\n        \"semantic_type\": \"\",\n        \"description\": \"\"\n      }\n    },\n    {\n      \"column\": \"date\",\n      \"properties\": {\n        \"dtype\": \"object\",\n        \"num_unique_values\": 236,\n        \"samples\": [\n          \"05/12/2022\",\n          \"02/01/2023\",\n          \"14/01/2023\"\n        ],\n        \"semantic_type\": \"\",\n        \"description\": \"\"\n      }\n    },\n    {\n      \"column\": \"time\",\n      \"properties\": {\n        \"dtype\": \"object\",\n        \"num_unique_values\": 14036,\n        \"samples\": [\n          \"18:02:09\",\n          \"13:29:18\",\n          \"21:14:43\"\n        ],\n        \"semantic_type\": \"\",\n        \"description\": \"\"\n      }\n    },\n    {\n      \"column\": \"replies_count\",\n      \"properties\": {\n        \"dtype\": \"number\",\n        \"std\": 54.868946972967024,\n        \"min\": 1.0,\n        \"max\": 2964.0,\n        \"num_unique_values\": 242,\n        \"samples\": [\n          463.0,\n          1186.0,\n          91.0\n        ],\n        \"semantic_type\": \"\",\n        \"description\": \"\"\n      }\n    },\n    {\n      \"column\": \"retweets_count\",\n      \"properties\": {\n        \"dtype\": \"number\",\n        \"std\": 159.33777382791783,\n        \"min\": 0.0,\n        \"max\": 11600.0,\n        \"num_unique_values\": 344,\n        \"samples\": [\n          11.0,\n          391.0,\n          81.0\n        ],\n        \"semantic_type\": \"\",\n        \"description\": \"\"\n      }\n    },\n    {\n      \"column\": \"likes_count\",\n      \"properties\": {\n        \"dtype\": \"number\",\n        \"std\": 714.4035416854426,\n        \"min\": 0.0,\n        \"max\": 42027.0,\n        \"num_unique_values\": 688,\n        \"samples\": [\n          41.0,\n          288.0,\n          91.0\n        ],\n        \"semantic_type\": \"\",\n        \"description\": \"\"\n      }\n    },\n    {\n      \"column\": \"steaming data\",\n      \"properties\": {\n        \"dtype\": \"string\",\n        \"num_unique_values\": 15897,\n        \"samples\": [\n          \"list of witnesses present at trial bharada e love brigadier parents j\",\n          \"Komnas HAM, the history of communication at the Sambo House\",\n          \"It should be a family event, Brigadier J. Read the article, the paragraph, the paragraph, the verse that was not misleading, the Criminal Code had no impact on breaking up, Ferdi Sambo wrote hook\"\n        ],\n        \"semantic_type\": \"\",\n        \"description\": \"\"\n      }\n    },\n    {\n      \"column\": \"Compound_Score\",\n      \"properties\": {\n        \"dtype\": \"number\",\n        \"std\": 4713.857790134213,\n        \"min\": -9895.0,\n        \"max\": 9737.0,\n        \"num_unique_values\": 1561,\n        \"samples\": [\n          -5158.0,\n          8646.0,\n          6326.0\n        ],\n        \"semantic_type\": \"\",\n        \"description\": \"\"\n      }\n    },\n    {\n      \"column\": \"Sentiments\",\n      \"properties\": {\n        \"dtype\": \"category\",\n        \"num_unique_values\": 8,\n        \"samples\": [\n          \"Neutral\",\n          \"-0.0803\",\n          \"Negative\"\n        ],\n        \"semantic_type\": \"\",\n        \"description\": \"\"\n      }\n    }\n  ]\n}"
            }
          },
          "metadata": {},
          "execution_count": 10
        }
      ]
    },
    {
      "cell_type": "code",
      "source": [
        "df.describe()"
      ],
      "metadata": {
        "colab": {
          "base_uri": "https://localhost:8080/",
          "height": 300
        },
        "id": "L68MSoqj9Y6w",
        "outputId": "d37bad70-edfb-4c67-8184-ad0c69c207b5"
      },
      "execution_count": 11,
      "outputs": [
        {
          "output_type": "execute_result",
          "data": {
            "text/plain": [
              "       replies_count  retweets_count   likes_count  Compound_Score\n",
              "count   15907.000000    15911.000000  15911.000000    15908.000000\n",
              "mean        7.628780       13.925775     65.883791    -1016.634775\n",
              "std        54.868947      159.337774    714.403542     4713.857790\n",
              "min         1.000000        0.000000      0.000000    -9895.000000\n",
              "25%         1.000000        0.000000      0.000000    -5267.000000\n",
              "50%         1.000000        0.000000      2.000000        0.000000\n",
              "75%         2.000000        3.000000     13.000000     1027.000000\n",
              "max      2964.000000    11600.000000  42027.000000     9737.000000"
            ],
            "text/html": [
              "\n",
              "  <div id=\"df-b7af29f0-f262-468e-87a1-214c81fca654\" class=\"colab-df-container\">\n",
              "    <div>\n",
              "<style scoped>\n",
              "    .dataframe tbody tr th:only-of-type {\n",
              "        vertical-align: middle;\n",
              "    }\n",
              "\n",
              "    .dataframe tbody tr th {\n",
              "        vertical-align: top;\n",
              "    }\n",
              "\n",
              "    .dataframe thead th {\n",
              "        text-align: right;\n",
              "    }\n",
              "</style>\n",
              "<table border=\"1\" class=\"dataframe\">\n",
              "  <thead>\n",
              "    <tr style=\"text-align: right;\">\n",
              "      <th></th>\n",
              "      <th>replies_count</th>\n",
              "      <th>retweets_count</th>\n",
              "      <th>likes_count</th>\n",
              "      <th>Compound_Score</th>\n",
              "    </tr>\n",
              "  </thead>\n",
              "  <tbody>\n",
              "    <tr>\n",
              "      <th>count</th>\n",
              "      <td>15907.000000</td>\n",
              "      <td>15911.000000</td>\n",
              "      <td>15911.000000</td>\n",
              "      <td>15908.000000</td>\n",
              "    </tr>\n",
              "    <tr>\n",
              "      <th>mean</th>\n",
              "      <td>7.628780</td>\n",
              "      <td>13.925775</td>\n",
              "      <td>65.883791</td>\n",
              "      <td>-1016.634775</td>\n",
              "    </tr>\n",
              "    <tr>\n",
              "      <th>std</th>\n",
              "      <td>54.868947</td>\n",
              "      <td>159.337774</td>\n",
              "      <td>714.403542</td>\n",
              "      <td>4713.857790</td>\n",
              "    </tr>\n",
              "    <tr>\n",
              "      <th>min</th>\n",
              "      <td>1.000000</td>\n",
              "      <td>0.000000</td>\n",
              "      <td>0.000000</td>\n",
              "      <td>-9895.000000</td>\n",
              "    </tr>\n",
              "    <tr>\n",
              "      <th>25%</th>\n",
              "      <td>1.000000</td>\n",
              "      <td>0.000000</td>\n",
              "      <td>0.000000</td>\n",
              "      <td>-5267.000000</td>\n",
              "    </tr>\n",
              "    <tr>\n",
              "      <th>50%</th>\n",
              "      <td>1.000000</td>\n",
              "      <td>0.000000</td>\n",
              "      <td>2.000000</td>\n",
              "      <td>0.000000</td>\n",
              "    </tr>\n",
              "    <tr>\n",
              "      <th>75%</th>\n",
              "      <td>2.000000</td>\n",
              "      <td>3.000000</td>\n",
              "      <td>13.000000</td>\n",
              "      <td>1027.000000</td>\n",
              "    </tr>\n",
              "    <tr>\n",
              "      <th>max</th>\n",
              "      <td>2964.000000</td>\n",
              "      <td>11600.000000</td>\n",
              "      <td>42027.000000</td>\n",
              "      <td>9737.000000</td>\n",
              "    </tr>\n",
              "  </tbody>\n",
              "</table>\n",
              "</div>\n",
              "    <div class=\"colab-df-buttons\">\n",
              "\n",
              "  <div class=\"colab-df-container\">\n",
              "    <button class=\"colab-df-convert\" onclick=\"convertToInteractive('df-b7af29f0-f262-468e-87a1-214c81fca654')\"\n",
              "            title=\"Convert this dataframe to an interactive table.\"\n",
              "            style=\"display:none;\">\n",
              "\n",
              "  <svg xmlns=\"http://www.w3.org/2000/svg\" height=\"24px\" viewBox=\"0 -960 960 960\">\n",
              "    <path d=\"M120-120v-720h720v720H120Zm60-500h600v-160H180v160Zm220 220h160v-160H400v160Zm0 220h160v-160H400v160ZM180-400h160v-160H180v160Zm440 0h160v-160H620v160ZM180-180h160v-160H180v160Zm440 0h160v-160H620v160Z\"/>\n",
              "  </svg>\n",
              "    </button>\n",
              "\n",
              "  <style>\n",
              "    .colab-df-container {\n",
              "      display:flex;\n",
              "      gap: 12px;\n",
              "    }\n",
              "\n",
              "    .colab-df-convert {\n",
              "      background-color: #E8F0FE;\n",
              "      border: none;\n",
              "      border-radius: 50%;\n",
              "      cursor: pointer;\n",
              "      display: none;\n",
              "      fill: #1967D2;\n",
              "      height: 32px;\n",
              "      padding: 0 0 0 0;\n",
              "      width: 32px;\n",
              "    }\n",
              "\n",
              "    .colab-df-convert:hover {\n",
              "      background-color: #E2EBFA;\n",
              "      box-shadow: 0px 1px 2px rgba(60, 64, 67, 0.3), 0px 1px 3px 1px rgba(60, 64, 67, 0.15);\n",
              "      fill: #174EA6;\n",
              "    }\n",
              "\n",
              "    .colab-df-buttons div {\n",
              "      margin-bottom: 4px;\n",
              "    }\n",
              "\n",
              "    [theme=dark] .colab-df-convert {\n",
              "      background-color: #3B4455;\n",
              "      fill: #D2E3FC;\n",
              "    }\n",
              "\n",
              "    [theme=dark] .colab-df-convert:hover {\n",
              "      background-color: #434B5C;\n",
              "      box-shadow: 0px 1px 3px 1px rgba(0, 0, 0, 0.15);\n",
              "      filter: drop-shadow(0px 1px 2px rgba(0, 0, 0, 0.3));\n",
              "      fill: #FFFFFF;\n",
              "    }\n",
              "  </style>\n",
              "\n",
              "    <script>\n",
              "      const buttonEl =\n",
              "        document.querySelector('#df-b7af29f0-f262-468e-87a1-214c81fca654 button.colab-df-convert');\n",
              "      buttonEl.style.display =\n",
              "        google.colab.kernel.accessAllowed ? 'block' : 'none';\n",
              "\n",
              "      async function convertToInteractive(key) {\n",
              "        const element = document.querySelector('#df-b7af29f0-f262-468e-87a1-214c81fca654');\n",
              "        const dataTable =\n",
              "          await google.colab.kernel.invokeFunction('convertToInteractive',\n",
              "                                                    [key], {});\n",
              "        if (!dataTable) return;\n",
              "\n",
              "        const docLinkHtml = 'Like what you see? Visit the ' +\n",
              "          '<a target=\"_blank\" href=https://colab.research.google.com/notebooks/data_table.ipynb>data table notebook</a>'\n",
              "          + ' to learn more about interactive tables.';\n",
              "        element.innerHTML = '';\n",
              "        dataTable['output_type'] = 'display_data';\n",
              "        await google.colab.output.renderOutput(dataTable, element);\n",
              "        const docLink = document.createElement('div');\n",
              "        docLink.innerHTML = docLinkHtml;\n",
              "        element.appendChild(docLink);\n",
              "      }\n",
              "    </script>\n",
              "  </div>\n",
              "\n",
              "\n",
              "<div id=\"df-12bbcb5f-f00e-43ce-ba54-79c5af8df2f1\">\n",
              "  <button class=\"colab-df-quickchart\" onclick=\"quickchart('df-12bbcb5f-f00e-43ce-ba54-79c5af8df2f1')\"\n",
              "            title=\"Suggest charts\"\n",
              "            style=\"display:none;\">\n",
              "\n",
              "<svg xmlns=\"http://www.w3.org/2000/svg\" height=\"24px\"viewBox=\"0 0 24 24\"\n",
              "     width=\"24px\">\n",
              "    <g>\n",
              "        <path d=\"M19 3H5c-1.1 0-2 .9-2 2v14c0 1.1.9 2 2 2h14c1.1 0 2-.9 2-2V5c0-1.1-.9-2-2-2zM9 17H7v-7h2v7zm4 0h-2V7h2v10zm4 0h-2v-4h2v4z\"/>\n",
              "    </g>\n",
              "</svg>\n",
              "  </button>\n",
              "\n",
              "<style>\n",
              "  .colab-df-quickchart {\n",
              "      --bg-color: #E8F0FE;\n",
              "      --fill-color: #1967D2;\n",
              "      --hover-bg-color: #E2EBFA;\n",
              "      --hover-fill-color: #174EA6;\n",
              "      --disabled-fill-color: #AAA;\n",
              "      --disabled-bg-color: #DDD;\n",
              "  }\n",
              "\n",
              "  [theme=dark] .colab-df-quickchart {\n",
              "      --bg-color: #3B4455;\n",
              "      --fill-color: #D2E3FC;\n",
              "      --hover-bg-color: #434B5C;\n",
              "      --hover-fill-color: #FFFFFF;\n",
              "      --disabled-bg-color: #3B4455;\n",
              "      --disabled-fill-color: #666;\n",
              "  }\n",
              "\n",
              "  .colab-df-quickchart {\n",
              "    background-color: var(--bg-color);\n",
              "    border: none;\n",
              "    border-radius: 50%;\n",
              "    cursor: pointer;\n",
              "    display: none;\n",
              "    fill: var(--fill-color);\n",
              "    height: 32px;\n",
              "    padding: 0;\n",
              "    width: 32px;\n",
              "  }\n",
              "\n",
              "  .colab-df-quickchart:hover {\n",
              "    background-color: var(--hover-bg-color);\n",
              "    box-shadow: 0 1px 2px rgba(60, 64, 67, 0.3), 0 1px 3px 1px rgba(60, 64, 67, 0.15);\n",
              "    fill: var(--button-hover-fill-color);\n",
              "  }\n",
              "\n",
              "  .colab-df-quickchart-complete:disabled,\n",
              "  .colab-df-quickchart-complete:disabled:hover {\n",
              "    background-color: var(--disabled-bg-color);\n",
              "    fill: var(--disabled-fill-color);\n",
              "    box-shadow: none;\n",
              "  }\n",
              "\n",
              "  .colab-df-spinner {\n",
              "    border: 2px solid var(--fill-color);\n",
              "    border-color: transparent;\n",
              "    border-bottom-color: var(--fill-color);\n",
              "    animation:\n",
              "      spin 1s steps(1) infinite;\n",
              "  }\n",
              "\n",
              "  @keyframes spin {\n",
              "    0% {\n",
              "      border-color: transparent;\n",
              "      border-bottom-color: var(--fill-color);\n",
              "      border-left-color: var(--fill-color);\n",
              "    }\n",
              "    20% {\n",
              "      border-color: transparent;\n",
              "      border-left-color: var(--fill-color);\n",
              "      border-top-color: var(--fill-color);\n",
              "    }\n",
              "    30% {\n",
              "      border-color: transparent;\n",
              "      border-left-color: var(--fill-color);\n",
              "      border-top-color: var(--fill-color);\n",
              "      border-right-color: var(--fill-color);\n",
              "    }\n",
              "    40% {\n",
              "      border-color: transparent;\n",
              "      border-right-color: var(--fill-color);\n",
              "      border-top-color: var(--fill-color);\n",
              "    }\n",
              "    60% {\n",
              "      border-color: transparent;\n",
              "      border-right-color: var(--fill-color);\n",
              "    }\n",
              "    80% {\n",
              "      border-color: transparent;\n",
              "      border-right-color: var(--fill-color);\n",
              "      border-bottom-color: var(--fill-color);\n",
              "    }\n",
              "    90% {\n",
              "      border-color: transparent;\n",
              "      border-bottom-color: var(--fill-color);\n",
              "    }\n",
              "  }\n",
              "</style>\n",
              "\n",
              "  <script>\n",
              "    async function quickchart(key) {\n",
              "      const quickchartButtonEl =\n",
              "        document.querySelector('#' + key + ' button');\n",
              "      quickchartButtonEl.disabled = true;  // To prevent multiple clicks.\n",
              "      quickchartButtonEl.classList.add('colab-df-spinner');\n",
              "      try {\n",
              "        const charts = await google.colab.kernel.invokeFunction(\n",
              "            'suggestCharts', [key], {});\n",
              "      } catch (error) {\n",
              "        console.error('Error during call to suggestCharts:', error);\n",
              "      }\n",
              "      quickchartButtonEl.classList.remove('colab-df-spinner');\n",
              "      quickchartButtonEl.classList.add('colab-df-quickchart-complete');\n",
              "    }\n",
              "    (() => {\n",
              "      let quickchartButtonEl =\n",
              "        document.querySelector('#df-12bbcb5f-f00e-43ce-ba54-79c5af8df2f1 button');\n",
              "      quickchartButtonEl.style.display =\n",
              "        google.colab.kernel.accessAllowed ? 'block' : 'none';\n",
              "    })();\n",
              "  </script>\n",
              "</div>\n",
              "    </div>\n",
              "  </div>\n"
            ],
            "application/vnd.google.colaboratory.intrinsic+json": {
              "type": "dataframe",
              "summary": "{\n  \"name\": \"df\",\n  \"rows\": 8,\n  \"fields\": [\n    {\n      \"column\": \"replies_count\",\n      \"properties\": {\n        \"dtype\": \"number\",\n        \"std\": 5567.606356432752,\n        \"min\": 1.0,\n        \"max\": 15907.0,\n        \"num_unique_values\": 6,\n        \"samples\": [\n          15907.0,\n          7.628779782485698,\n          2964.0\n        ],\n        \"semantic_type\": \"\",\n        \"description\": \"\"\n      }\n    },\n    {\n      \"column\": \"retweets_count\",\n      \"properties\": {\n        \"dtype\": \"number\",\n        \"std\": 6457.801949173092,\n        \"min\": 0.0,\n        \"max\": 15911.0,\n        \"num_unique_values\": 6,\n        \"samples\": [\n          15911.0,\n          13.925774621331154,\n          11600.0\n        ],\n        \"semantic_type\": \"\",\n        \"description\": \"\"\n      }\n    },\n    {\n      \"column\": \"likes_count\",\n      \"properties\": {\n        \"dtype\": \"number\",\n        \"std\": 15065.303827859545,\n        \"min\": 0.0,\n        \"max\": 42027.0,\n        \"num_unique_values\": 7,\n        \"samples\": [\n          15911.0,\n          65.8837910879266,\n          13.0\n        ],\n        \"semantic_type\": \"\",\n        \"description\": \"\"\n      }\n    },\n    {\n      \"column\": \"Compound_Score\",\n      \"properties\": {\n        \"dtype\": \"number\",\n        \"std\": 8184.717671647814,\n        \"min\": -9895.0,\n        \"max\": 15908.0,\n        \"num_unique_values\": 8,\n        \"samples\": [\n          -1016.6347749559969,\n          0.0,\n          15908.0\n        ],\n        \"semantic_type\": \"\",\n        \"description\": \"\"\n      }\n    }\n  ]\n}"
            }
          },
          "metadata": {},
          "execution_count": 11
        }
      ]
    },
    {
      "cell_type": "markdown",
      "source": [
        "# **Exploration Data Analysis**"
      ],
      "metadata": {
        "id": "IMY8qZcfKcYv"
      }
    },
    {
      "cell_type": "markdown",
      "source": [
        "## **Hot news about Malaysia**"
      ],
      "metadata": {
        "id": "Ff0eXLDcALqf"
      }
    },
    {
      "cell_type": "code",
      "source": [
        "contains_malaysia =df[\"steaming data\"].str.contains('Malaysia', case=False, na=False)\n",
        "\n",
        "new_malaysia = df[contains_malaysia]\n",
        "\n",
        "print(new_malaysia)"
      ],
      "metadata": {
        "colab": {
          "base_uri": "https://localhost:8080/"
        },
        "id": "xjQ4ciUMAU8m",
        "outputId": "32612923-c9d4-4810-821b-20240a5df799"
      },
      "execution_count": 12,
      "outputs": [
        {
          "output_type": "stream",
          "name": "stdout",
          "text": [
            "              username        date      time  replies_count  retweets_count  \\\n",
            "9023         good_on_g  13/07/2022  21:56:24            1.0             0.0   \n",
            "9642   the_agastyfa_94  21/11/2022  13:38:45            1.0             0.0   \n",
            "9646   the_agastyfa_94  21/11/2022  08:56:01            1.0             0.0   \n",
            "11799            blood  28/12/2022  17:11:58            1.0             0.0   \n",
            "15864   hockeymalaysia  12/08/2022  13:09:32            1.0             0.0   \n",
            "\n",
            "       likes_count                                      steaming data  \\\n",
            "9023           0.0  male female buya yahya ms glow nguyen squidgam...   \n",
            "9642           0.0  Beritartm rtmmalaysia hangs the Malaysian parl...   \n",
            "9646           0.0  Malaysian parliament hanged Friday elect PM Se...   \n",
            "11799          0.0  suriyamaara aravosambo selenofyl chandersbc ma...   \n",
            "15864          3.0  womens indoor asia cup bangkok thailand pool b...   \n",
            "\n",
            "       Compound_Score Sentiments  \n",
            "9023           4588.0   Positive  \n",
            "9642          -1779.0   Negative  \n",
            "9646              0.0    Neutral  \n",
            "11799          2263.0   Positive  \n",
            "15864             0.0    Neutral  \n"
          ]
        }
      ]
    },
    {
      "cell_type": "code",
      "source": [
        "row_9642 = df.loc[9642, 'steaming data']\n",
        "row_9646 = df.loc[9646, 'steaming data']\n",
        "\n",
        "print(f'Election New: {row_9642}')\n",
        "print(f'Election New: {row_9646}')"
      ],
      "metadata": {
        "colab": {
          "base_uri": "https://localhost:8080/"
        },
        "id": "pi2n_5uVCEAP",
        "outputId": "55c50553-22c6-4d6f-9c69-37163316fa85"
      },
      "execution_count": 13,
      "outputs": [
        {
          "output_type": "stream",
          "name": "stdout",
          "text": [
            "Election New: Beritartm rtmmalaysia hangs the Malaysian parliament, it's a bad stop, right? Itaewon x itaewon, or Brigadier J, like Friday, the hanging session of the Malaysian parliament, like Brigadier J\n",
            "Election New: Malaysian parliament hanged Friday elect PM Sembah Raja Malaysia hangs Malaysian parliament briefly trial Brigadier J\n"
          ]
        }
      ]
    },
    {
      "cell_type": "markdown",
      "source": [
        "## **Duration the data was Scrapped**"
      ],
      "metadata": {
        "id": "ZCTQmwEJKNA0"
      }
    },
    {
      "cell_type": "code",
      "source": [
        "# Convert the 'date' column to datetime format\n",
        "df['date'] = pd.to_datetime(df['date'], errors='coerce')  # 'coerce' will handle any non-convertible values as NaT\n",
        "\n",
        "# Calculate the earliest and latest dates\n",
        "earliest_date = df['date'].min()\n",
        "latest_date = df['date'].max()\n",
        "\n",
        "duration = latest_date - earliest_date\n",
        "\n",
        "# Print results\n",
        "print(f\"The earliest date is: {earliest_date}\")\n",
        "print(f\"The latest date is: {latest_date}\")\n",
        "print(f\"The duration between the earliest and latest dates is: {duration}\")"
      ],
      "metadata": {
        "colab": {
          "base_uri": "https://localhost:8080/"
        },
        "id": "Lzeht0bVJPvl",
        "outputId": "00aa5377-40dd-49f8-b427-28996a216a3f"
      },
      "execution_count": 14,
      "outputs": [
        {
          "output_type": "stream",
          "name": "stdout",
          "text": [
            "The earliest date is: 2022-07-02 00:00:00\n",
            "The latest date is: 2023-03-13 00:00:00\n",
            "The duration between the earliest and latest dates is: 254 days 00:00:00\n"
          ]
        },
        {
          "output_type": "stream",
          "name": "stderr",
          "text": [
            "<ipython-input-14-6e0b644e5fe9>:2: UserWarning: Parsing dates in %d/%m/%Y format when dayfirst=False (the default) was specified. Pass `dayfirst=True` or specify a format to silence this warning.\n",
            "  df['date'] = pd.to_datetime(df['date'], errors='coerce')  # 'coerce' will handle any non-convertible values as NaT\n"
          ]
        }
      ]
    },
    {
      "cell_type": "markdown",
      "source": [
        "## **Visualised data**"
      ],
      "metadata": {
        "id": "rjfkqcZr-q07"
      }
    },
    {
      "cell_type": "code",
      "source": [
        "df.columns"
      ],
      "metadata": {
        "colab": {
          "base_uri": "https://localhost:8080/"
        },
        "id": "Lqvo812X_xbi",
        "outputId": "2bda0030-fbd9-4331-d62f-226e2c5a0c61"
      },
      "execution_count": 15,
      "outputs": [
        {
          "output_type": "execute_result",
          "data": {
            "text/plain": [
              "Index(['username', 'date', 'time', 'replies_count', 'retweets_count',\n",
              "       'likes_count', 'steaming data', 'Compound_Score', 'Sentiments'],\n",
              "      dtype='object')"
            ]
          },
          "metadata": {},
          "execution_count": 15
        }
      ]
    },
    {
      "cell_type": "code",
      "source": [
        "sns.histplot(df['Compound_Score'], kde=True)"
      ],
      "metadata": {
        "colab": {
          "base_uri": "https://localhost:8080/",
          "height": 0
        },
        "id": "ND7jCIRZ-Vo6",
        "outputId": "cde76c4b-7111-489e-848f-b534617ae633"
      },
      "execution_count": 16,
      "outputs": [
        {
          "output_type": "execute_result",
          "data": {
            "text/plain": [
              "<Axes: xlabel='Compound_Score', ylabel='Count'>"
            ]
          },
          "metadata": {},
          "execution_count": 16
        },
        {
          "output_type": "display_data",
          "data": {
            "text/plain": [
              "<Figure size 640x480 with 1 Axes>"
            ],
            "image/png": "[encoded data removed]"
          },
          "metadata": {}
        }
      ]
    },
    {
      "cell_type": "code",
      "source": [
        "sns.histplot(df['Sentiments'], kde=True)"
      ],
      "metadata": {
        "colab": {
          "base_uri": "https://localhost:8080/",
          "height": 0
        },
        "id": "-9ZDrFHj_E7u",
        "outputId": "71798dc2-b5e6-4054-8271-f06f4d891b70"
      },
      "execution_count": 17,
      "outputs": [
        {
          "output_type": "execute_result",
          "data": {
            "text/plain": [
              "<Axes: xlabel='Sentiments', ylabel='Count'>"
            ]
          },
          "metadata": {},
          "execution_count": 17
        },
        {
          "output_type": "display_data",
          "data": {
            "text/plain": [
              "<Figure size 640x480 with 1 Axes>"
            ],
            "image/png": "[encoded data removed]"
          },
          "metadata": {}
        }
      ]
    },
    {
      "cell_type": "markdown",
      "source": [
        "## **Correlation on sentiment**"
      ],
      "metadata": {
        "id": "TaqrMhatBCG5"
      }
    },
    {
      "cell_type": "code",
      "source": [
        "correlation_metric =  df.corr\n",
        "sns.heatmap(df[['replies_count', 'retweets_count',\n",
        "       'likes_count','Compound_Score']].corr(), annot=True)\n",
        "plt.show()"
      ],
      "metadata": {
        "colab": {
          "base_uri": "https://localhost:8080/",
          "height": 0
        },
        "id": "tOySprx0AynD",
        "outputId": "da15a441-0fe8-4077-945f-1bb306b4473a"
      },
      "execution_count": 18,
      "outputs": [
        {
          "output_type": "display_data",
          "data": {
            "text/plain": [
              "<Figure size 640x480 with 2 Axes>"
            ],
            "image/png": "[encoded data removed]"
          },
          "metadata": {}
        }
      ]
    },
    {
      "cell_type": "markdown",
      "source": [
        "## **Data cleaning (Drop all NULL values)**"
      ],
      "metadata": {
        "id": "w0-GYa9wUVQL"
      }
    },
    {
      "cell_type": "code",
      "source": [
        "df_cleaned = df.dropna()\n"
      ],
      "metadata": {
        "id": "WFgNHUXfBciJ"
      },
      "execution_count": 19,
      "outputs": []
    },
    {
      "cell_type": "code",
      "source": [
        "df_cleaned.info()"
      ],
      "metadata": {
        "colab": {
          "base_uri": "https://localhost:8080/"
        },
        "id": "MJDhz5aJUmK0",
        "outputId": "38acbeda-2b90-411b-ce26-4c9286dac738"
      },
      "execution_count": 20,
      "outputs": [
        {
          "output_type": "stream",
          "name": "stdout",
          "text": [
            "<class 'pandas.core.frame.DataFrame'>\n",
            "Index: 15907 entries, 0 to 15911\n",
            "Data columns (total 9 columns):\n",
            " #   Column          Non-Null Count  Dtype         \n",
            "---  ------          --------------  -----         \n",
            " 0   username        15907 non-null  object        \n",
            " 1   date            15907 non-null  datetime64[ns]\n",
            " 2   time            15907 non-null  object        \n",
            " 3   replies_count   15907 non-null  float64       \n",
            " 4   retweets_count  15907 non-null  float64       \n",
            " 5   likes_count     15907 non-null  float64       \n",
            " 6   steaming data   15907 non-null  object        \n",
            " 7   Compound_Score  15907 non-null  float64       \n",
            " 8   Sentiments      15907 non-null  object        \n",
            "dtypes: datetime64[ns](1), float64(4), object(4)\n",
            "memory usage: 1.2+ MB\n"
          ]
        }
      ]
    },
    {
      "cell_type": "markdown",
      "source": [
        "## **Barchart after cleaned Null Value**"
      ],
      "metadata": {
        "id": "7TKlVoGSISs5"
      }
    },
    {
      "cell_type": "code",
      "source": [
        "sns.histplot(df_cleaned['Sentiments'], kde=True)"
      ],
      "metadata": {
        "colab": {
          "base_uri": "https://localhost:8080/",
          "height": 0
        },
        "id": "9_c9MiamH0lO",
        "outputId": "cc052324-244e-473c-cf77-b605776858d3"
      },
      "execution_count": 21,
      "outputs": [
        {
          "output_type": "execute_result",
          "data": {
            "text/plain": [
              "<Axes: xlabel='Sentiments', ylabel='Count'>"
            ]
          },
          "metadata": {},
          "execution_count": 21
        },
        {
          "output_type": "display_data",
          "data": {
            "text/plain": [
              "<Figure size 640x480 with 1 Axes>"
            ],
            "image/png": "[encoded data removed]"
          },
          "metadata": {}
        }
      ]
    },
    {
      "cell_type": "markdown",
      "source": [
        "## **Value counts for each sentiment**"
      ],
      "metadata": {
        "id": "IsiTZMmngDiL"
      }
    },
    {
      "cell_type": "code",
      "source": [
        "sentiment_count = df_cleaned['Sentiments'].value_counts()\n",
        "\n",
        "sns.set_style('whitegrid')\n",
        "\n",
        "# Create a bar plot with the sentiment count data\n",
        "fig, ax = plt.subplots(figsize = (6,4))\n",
        "\n",
        "# Assign the x variable to hue and set legend to False\n",
        "ax = sns.barplot(x=sentiment_count.index, y=sentiment_count.values, palette='pastel', hue=sentiment_count.index, dodge=False, legend=False)\n",
        "\n",
        "plt.title('Sentiment Analysis' , fontsize=14 , pad = 20)\n",
        "plt.xlabel('Class sentiment', fontsize=12)\n",
        "plt.ylabel('Total Tweet', fontsize=12)\n",
        "\n",
        "# Add text labels on top of the bars\n",
        "for i, count in enumerate(sentiment_count.values):\n",
        "    ax.text(i, count + 0.10, str(count), ha='center', va='bottom')\n",
        "\n",
        "# Display the plot\n",
        "plt.show()"
      ],
      "metadata": {
        "colab": {
          "base_uri": "https://localhost:8080/",
          "height": 0
        },
        "id": "hNgjbAHQUr7U",
        "outputId": "60dca9c3-b8f8-488b-aaae-9ef944c069f7"
      },
      "execution_count": 22,
      "outputs": [
        {
          "output_type": "display_data",
          "data": {
            "text/plain": [
              "<Figure size 600x400 with 1 Axes>"
            ],
            "image/png": "[encoded data removed]"
          },
          "metadata": {}
        }
      ]
    },
    {
      "cell_type": "markdown",
      "source": [
        "# **Algorithm Naive Bayer Classifier Multinomial**"
      ],
      "metadata": {
        "id": "LnrAFD7LphfV"
      }
    },
    {
      "cell_type": "code",
      "source": [
        "# Import library\n",
        "from sklearn.model_selection import train_test_split\n",
        "from sklearn.feature_extraction.text import CountVectorizer\n",
        "from sklearn.naive_bayes import MultinomialNB\n",
        "from sklearn.metrics import accuracy_score, classification_report, confusion_matrix\n",
        "\n",
        "\n"
      ],
      "metadata": {
        "id": "FOU6AKJgiFFf"
      },
      "execution_count": 23,
      "outputs": []
    },
    {
      "cell_type": "markdown",
      "source": [
        "## **Split and test dataset**"
      ],
      "metadata": {
        "id": "UeZ1sFkBq3Ek"
      }
    },
    {
      "cell_type": "code",
      "source": [
        "X_train, X_test, y_train, y_test = train_test_split(df_cleaned['steaming data'], df_cleaned['Sentiments'], test_size=0.2, random_state=42)"
      ],
      "metadata": {
        "id": "m0FUZI-zq8uE"
      },
      "execution_count": 24,
      "outputs": []
    },
    {
      "cell_type": "markdown",
      "source": [
        "## **Total train and test data**"
      ],
      "metadata": {
        "id": "Pun8YcT3sLTa"
      }
    },
    {
      "cell_type": "code",
      "source": [
        "print(f' Total train data : {len(X_train)}')\n",
        "print(f' Total test data : {len(X_test)}')"
      ],
      "metadata": {
        "colab": {
          "base_uri": "https://localhost:8080/"
        },
        "id": "Bxngwm-tsHUU",
        "outputId": "16f80d43-423d-4af1-cb11-f7cb943f9184"
      },
      "execution_count": 25,
      "outputs": [
        {
          "output_type": "stream",
          "name": "stdout",
          "text": [
            " Total train data : 12725\n",
            " Total test data : 3182\n"
          ]
        }
      ]
    },
    {
      "cell_type": "markdown",
      "source": [
        "## **Change Text to Vector Feature**\n",
        "\n",
        "> Add blockquote\n",
        "\n"
      ],
      "metadata": {
        "id": "VECHJEONtluZ"
      }
    },
    {
      "cell_type": "code",
      "source": [
        "vectorizer = CountVectorizer()\n",
        "X_train_vectorized = vectorizer.fit_transform(X_train)\n",
        "X_test_vectorized = vectorizer.transform(X_test)"
      ],
      "metadata": {
        "id": "w13ZCofusvyf"
      },
      "execution_count": 26,
      "outputs": []
    },
    {
      "cell_type": "markdown",
      "source": [
        "## **Print Extraction Feature**"
      ],
      "metadata": {
        "id": "i-rip1m5vOAg"
      }
    },
    {
      "cell_type": "code",
      "source": [
        "print('Extraction Feature:')\n",
        "print('----------------------------')\n",
        "print('Vector feature Train data:')\n",
        "print(X_train_vectorized.toarray())\n",
        "print('\\nVector feature Test data:')\n",
        "print(X_test_vectorized.toarray())\n"
      ],
      "metadata": {
        "colab": {
          "base_uri": "https://localhost:8080/"
        },
        "id": "KWGNWMk9uMuu",
        "outputId": "60d09743-d930-40f5-ba77-a774d6ce56db"
      },
      "execution_count": 27,
      "outputs": [
        {
          "output_type": "stream",
          "name": "stdout",
          "text": [
            "Extraction Feature:\n",
            "----------------------------\n",
            "Vector feature Train data:\n",
            "[[0 0 0 ... 0 0 0]\n",
            " [0 0 0 ... 0 0 0]\n",
            " [0 0 0 ... 0 0 0]\n",
            " ...\n",
            " [0 0 0 ... 0 0 0]\n",
            " [0 0 0 ... 0 0 0]\n",
            " [0 0 0 ... 0 0 0]]\n",
            "\n",
            "Vector feature Test data:\n",
            "[[0 0 0 ... 0 0 0]\n",
            " [0 0 0 ... 0 0 0]\n",
            " [0 0 0 ... 0 0 0]\n",
            " ...\n",
            " [0 0 0 ... 0 0 0]\n",
            " [0 0 0 ... 0 0 0]\n",
            " [0 0 0 ... 0 0 0]]\n"
          ]
        }
      ]
    },
    {
      "cell_type": "markdown",
      "source": [
        "# **Train Model Naive Bayes Using Multinomial**"
      ],
      "metadata": {
        "id": "L7Z1aHqVwkNz"
      }
    },
    {
      "cell_type": "code",
      "source": [
        "model = MultinomialNB()\n",
        "model.fit(X_train_vectorized, y_train)"
      ],
      "metadata": {
        "colab": {
          "base_uri": "https://localhost:8080/",
          "height": 0
        },
        "id": "8Dh49-tywSvG",
        "outputId": "2d50abfc-e6d2-4e1b-fd5e-b806f8f31d89"
      },
      "execution_count": 28,
      "outputs": [
        {
          "output_type": "execute_result",
          "data": {
            "text/plain": [
              "MultinomialNB()"
            ],
            "text/html": [
              "<style>#sk-container-id-1 {color: black;background-color: white;}#sk-container-id-1 pre{padding: 0;}#sk-container-id-1 div.sk-toggleable {background-color: white;}#sk-container-id-1 label.sk-toggleable__label {cursor: pointer;display: block;width: 100%;margin-bottom: 0;padding: 0.3em;box-sizing: border-box;text-align: center;}#sk-container-id-1 label.sk-toggleable__label-arrow:before {content: \"▸\";float: left;margin-right: 0.25em;color: #696969;}#sk-container-id-1 label.sk-toggleable__label-arrow:hover:before {color: black;}#sk-container-id-1 div.sk-estimator:hover label.sk-toggleable__label-arrow:before {color: black;}#sk-container-id-1 div.sk-toggleable__content {max-height: 0;max-width: 0;overflow: hidden;text-align: left;background-color: #f0f8ff;}#sk-container-id-1 div.sk-toggleable__content pre {margin: 0.2em;color: black;border-radius: 0.25em;background-color: #f0f8ff;}#sk-container-id-1 input.sk-toggleable__control:checked~div.sk-toggleable__content {max-height: 200px;max-width: 100%;overflow: auto;}#sk-container-id-1 input.sk-toggleable__control:checked~label.sk-toggleable__label-arrow:before {content: \"▾\";}#sk-container-id-1 div.sk-estimator input.sk-toggleable__control:checked~label.sk-toggleable__label {background-color: #d4ebff;}#sk-container-id-1 div.sk-label input.sk-toggleable__control:checked~label.sk-toggleable__label {background-color: #d4ebff;}#sk-container-id-1 input.sk-hidden--visually {border: 0;clip: rect(1px 1px 1px 1px);clip: rect(1px, 1px, 1px, 1px);height: 1px;margin: -1px;overflow: hidden;padding: 0;position: absolute;width: 1px;}#sk-container-id-1 div.sk-estimator {font-family: monospace;background-color: #f0f8ff;border: 1px dotted black;border-radius: 0.25em;box-sizing: border-box;margin-bottom: 0.5em;}#sk-container-id-1 div.sk-estimator:hover {background-color: #d4ebff;}#sk-container-id-1 div.sk-parallel-item::after {content: \"\";width: 100%;border-bottom: 1px solid gray;flex-grow: 1;}#sk-container-id-1 div.sk-label:hover label.sk-toggleable__label {background-color: #d4ebff;}#sk-container-id-1 div.sk-serial::before {content: \"\";position: absolute;border-left: 1px solid gray;box-sizing: border-box;top: 0;bottom: 0;left: 50%;z-index: 0;}#sk-container-id-1 div.sk-serial {display: flex;flex-direction: column;align-items: center;background-color: white;padding-right: 0.2em;padding-left: 0.2em;position: relative;}#sk-container-id-1 div.sk-item {position: relative;z-index: 1;}#sk-container-id-1 div.sk-parallel {display: flex;align-items: stretch;justify-content: center;background-color: white;position: relative;}#sk-container-id-1 div.sk-item::before, #sk-container-id-1 div.sk-parallel-item::before {content: \"\";position: absolute;border-left: 1px solid gray;box-sizing: border-box;top: 0;bottom: 0;left: 50%;z-index: -1;}#sk-container-id-1 div.sk-parallel-item {display: flex;flex-direction: column;z-index: 1;position: relative;background-color: white;}#sk-container-id-1 div.sk-parallel-item:first-child::after {align-self: flex-end;width: 50%;}#sk-container-id-1 div.sk-parallel-item:last-child::after {align-self: flex-start;width: 50%;}#sk-container-id-1 div.sk-parallel-item:only-child::after {width: 0;}#sk-container-id-1 div.sk-dashed-wrapped {border: 1px dashed gray;margin: 0 0.4em 0.5em 0.4em;box-sizing: border-box;padding-bottom: 0.4em;background-color: white;}#sk-container-id-1 div.sk-label label {font-family: monospace;font-weight: bold;display: inline-block;line-height: 1.2em;}#sk-container-id-1 div.sk-label-container {text-align: center;}#sk-container-id-1 div.sk-container {/* jupyter's `normalize.less` sets `[hidden] { display: none; }` but bootstrap.min.css set `[hidden] { display: none !important; }` so we also need the `!important` here to be able to override the default hidden behavior on the sphinx rendered scikit-learn.org. See: https://github.com/scikit-learn/scikit-learn/issues/21755 */display: inline-block !important;position: relative;}#sk-container-id-1 div.sk-text-repr-fallback {display: none;}</style><div id=\"sk-container-id-1\" class=\"sk-top-container\"><div class=\"sk-text-repr-fallback\"><pre>MultinomialNB()</pre><b>In a Jupyter environment, please rerun this cell to show the HTML representation or trust the notebook. <br />On GitHub, the HTML representation is unable to render, please try loading this page with nbviewer.org.</b></div><div class=\"sk-container\" hidden><div class=\"sk-item\"><div class=\"sk-estimator sk-toggleable\"><input class=\"sk-toggleable__control sk-hidden--visually\" id=\"sk-estimator-id-1\" type=\"checkbox\" checked><label for=\"sk-estimator-id-1\" class=\"sk-toggleable__label sk-toggleable__label-arrow\">MultinomialNB</label><div class=\"sk-toggleable__content\"><pre>MultinomialNB()</pre></div></div></div></div></div>"
            ]
          },
          "metadata": {},
          "execution_count": 28
        }
      ]
    },
    {
      "cell_type": "markdown",
      "source": [
        "## **Evaluate Model Using Test Data**"
      ],
      "metadata": {
        "id": "9MAn8Mc2xATx"
      }
    },
    {
      "cell_type": "code",
      "source": [
        "predictions =  model.predict(X_test_vectorized)\n",
        "\n",
        "accuracy= accuracy_score(y_test, predictions)\n",
        "print(f' Accuracy: {accuracy:.2f}')\n",
        "\n",
        "print('\\nClassification Report: \\n', classification_report(y_test, predictions))\n",
        "\n",
        "\n"
      ],
      "metadata": {
        "colab": {
          "base_uri": "https://localhost:8080/"
        },
        "id": "o81an1Ogw7uT",
        "outputId": "ec990e87-b87a-4abd-9af2-1b7cf913b9a4"
      },
      "execution_count": 29,
      "outputs": [
        {
          "output_type": "stream",
          "name": "stdout",
          "text": [
            " Accuracy: 0.65\n",
            "\n",
            "Classification Report: \n",
            "               precision    recall  f1-score   support\n",
            "\n",
            "    Negative       0.64      0.87      0.74      1553\n",
            "     Neutral       0.78      0.26      0.39       646\n",
            "    Positive       0.65      0.56      0.60       983\n",
            "\n",
            "    accuracy                           0.65      3182\n",
            "   macro avg       0.69      0.57      0.58      3182\n",
            "weighted avg       0.67      0.65      0.63      3182\n",
            "\n"
          ]
        }
      ]
    },
    {
      "cell_type": "markdown",
      "source": [
        "# **Confussion Matrix Naive Bayes test model**"
      ],
      "metadata": {
        "id": "TTMfjsdpy5xe"
      }
    },
    {
      "cell_type": "code",
      "source": [
        "print('\\nConfussion Matrix:\\n', confusion_matrix(y_test, predictions))"
      ],
      "metadata": {
        "colab": {
          "base_uri": "https://localhost:8080/"
        },
        "id": "slQZZJVHy4yA",
        "outputId": "f6ff6f6d-7364-4f0e-f094-75dbbe1e4669"
      },
      "execution_count": 30,
      "outputs": [
        {
          "output_type": "stream",
          "name": "stdout",
          "text": [
            "\n",
            "Confussion Matrix:\n",
            " [[1358   24  171]\n",
            " [ 347  170  129]\n",
            " [ 407   24  552]]\n"
          ]
        }
      ]
    },
    {
      "cell_type": "markdown",
      "source": [
        "## **Create Plot Confussion Matrix test model**"
      ],
      "metadata": {
        "id": "YL8iIXiR1nZW"
      }
    },
    {
      "cell_type": "code",
      "source": [
        "conf_matrix = confusion_matrix(y_test, predictions)\n",
        "\n",
        "# plot confussion matrix\n",
        "plt.figure(figsize=(8,6))\n",
        "sns.heatmap(conf_matrix, annot=True, fmt='d', cmap='Blues', xticklabels=['Negative', 'Neutral', 'Positive'], yticklabels=['Negative', 'Neutral', 'Positive'] )\n",
        "plt.title('Confussion Matrix')\n",
        "plt.xlabel('Predictions')\n",
        "plt.ylabel('Actual')\n",
        "plt.show()"
      ],
      "metadata": {
        "colab": {
          "base_uri": "https://localhost:8080/",
          "height": 0
        },
        "id": "gbfUrQgN0DwZ",
        "outputId": "b4985ece-acb0-427f-f79d-9ed367eadb27"
      },
      "execution_count": 31,
      "outputs": [
        {
          "output_type": "display_data",
          "data": {
            "text/plain": [
              "<Figure size 800x600 with 2 Axes>"
            ],
            "image/png": "[encoded data removed]"
          },
          "metadata": {}
        }
      ]
    },
    {
      "cell_type": "markdown",
      "source": [
        "*Evaluate Model using Test data was not reconmended as it will overfitting the model. Overfitting happened because it 'Memorize' the Test data and can not generated good new data. It is reconmended to used train data rather than test data.*"
      ],
      "metadata": {
        "id": "y5HnyKiN72hj"
      }
    },
    {
      "cell_type": "markdown",
      "source": [
        "# **Confussion Matrix Naive Bayes train model**"
      ],
      "metadata": {
        "id": "NTNAQaSi92Kc"
      }
    },
    {
      "cell_type": "code",
      "source": [
        "predictions_train =  model.predict(X_train_vectorized)\n",
        "\n",
        "accuracy_train= accuracy_score(y_train, predictions_train)\n",
        "print(f' Accuracy on Training Data: {accuracy_train:.2f}')\n",
        "\n",
        "print('\\nClassification Report on Training data: \\n', classification_report(y_train, predictions_train))"
      ],
      "metadata": {
        "colab": {
          "base_uri": "https://localhost:8080/"
        },
        "id": "MvOLFhdW6n64",
        "outputId": "373bc070-c9b0-464f-bbce-02e5df25c038"
      },
      "execution_count": 32,
      "outputs": [
        {
          "output_type": "stream",
          "name": "stdout",
          "text": [
            " Accuracy on Training Data: 0.80\n",
            "\n",
            "Classification Report on Training data: \n",
            "               precision    recall  f1-score   support\n",
            "\n",
            "    Negative       0.75      0.94      0.83      6041\n",
            "     Neutral       0.93      0.59      0.72      2755\n",
            "    Positive       0.83      0.73      0.78      3929\n",
            "\n",
            "    accuracy                           0.80     12725\n",
            "   macro avg       0.84      0.75      0.78     12725\n",
            "weighted avg       0.81      0.80      0.79     12725\n",
            "\n"
          ]
        }
      ]
    },
    {
      "cell_type": "markdown",
      "source": [
        "## **Create Plot Confussion Matrix Naive Bayer train model**"
      ],
      "metadata": {
        "id": "ZYpPk9hN-Diy"
      }
    },
    {
      "cell_type": "code",
      "source": [
        "conf_matrix_train = confusion_matrix(y_train, predictions_train)\n",
        "\n",
        "# plot confussion matrix\n",
        "plt.figure(figsize=(8,6))\n",
        "sns.heatmap(conf_matrix, annot=True, fmt='d', cmap='YlOrBr', xticklabels=['Negative', 'Neutral', 'Positive'], yticklabels=['Negative', 'Neutral', 'Positive'] )\n",
        "plt.title('Confussion Matrix Naive Bayer')\n",
        "plt.xlabel('Predictions')\n",
        "plt.ylabel('Actual')\n",
        "plt.show()"
      ],
      "metadata": {
        "colab": {
          "base_uri": "https://localhost:8080/",
          "height": 0
        },
        "id": "l3nusp079X59",
        "outputId": "1fede2cd-d2fb-4f50-a1c5-efbb619cd2dc"
      },
      "execution_count": 33,
      "outputs": [
        {
          "output_type": "display_data",
          "data": {
            "text/plain": [
              "<Figure size 800x600 with 2 Axes>"
            ],
            "image/png": "[encoded data removed]"
          },
          "metadata": {}
        }
      ]
    },
    {
      "cell_type": "markdown",
      "source": [
        "# **Algorithm Support Ventor Machine (SVM)**"
      ],
      "metadata": {
        "id": "i57Fr6CshrF8"
      }
    },
    {
      "cell_type": "code",
      "source": [
        "# import Library\n",
        "from sklearn.model_selection import train_test_split\n",
        "from sklearn.feature_extraction.text import TfidfVectorizer\n",
        "from sklearn.feature_extraction.text import CountVectorizer\n",
        "from sklearn.svm import SVC\n",
        "from sklearn.metrics import accuracy_score, classification_report, confusion_matrix"
      ],
      "metadata": {
        "id": "a0T6qa0U9yCd"
      },
      "execution_count": 34,
      "outputs": []
    },
    {
      "cell_type": "code",
      "source": [
        "X_train, X_test, y_train, y_test = train_test_split(df_cleaned['steaming data'], df_cleaned['Sentiments'], test_size=0.3, random_state=42)"
      ],
      "metadata": {
        "id": "Fjwmin6ohn6H"
      },
      "execution_count": 35,
      "outputs": []
    },
    {
      "cell_type": "code",
      "source": [
        "print(f' Total train data; {len(X_train)}')\n",
        "print(f' Total test data; {len(X_test)}')"
      ],
      "metadata": {
        "colab": {
          "base_uri": "https://localhost:8080/"
        },
        "id": "4xhgYbnEkCk0",
        "outputId": "2d42e2f8-c135-4227-eca2-dfdb608aa8f1"
      },
      "execution_count": 36,
      "outputs": [
        {
          "output_type": "stream",
          "name": "stdout",
          "text": [
            " Total train data; 11134\n",
            " Total test data; 4773\n"
          ]
        }
      ]
    },
    {
      "cell_type": "markdown",
      "source": [
        "## **Transform text data into vector TF-IDF**"
      ],
      "metadata": {
        "id": "FFiJwS3mmlQZ"
      }
    },
    {
      "cell_type": "code",
      "source": [
        "tfidf_Vectorizer = TfidfVectorizer()\n",
        "X_train_tfidf = tfidf_Vectorizer.fit_transform(X_train)\n",
        "X_test_tfidf = tfidf_Vectorizer.transform(X_test)"
      ],
      "metadata": {
        "id": "muusl1pOkwDJ"
      },
      "execution_count": 37,
      "outputs": []
    },
    {
      "cell_type": "code",
      "source": [
        "features_names = tfidf_Vectorizer.get_feature_names_out()\n",
        "\n",
        "print(\"Transformation from train data result:\")\n",
        "print(X_train_tfidf)\n",
        "\n",
        "print(\"\\n feature from vector TF-IDF:\")\n",
        "print(features_names)"
      ],
      "metadata": {
        "colab": {
          "base_uri": "https://localhost:8080/"
        },
        "id": "_58QlGmulq_l",
        "outputId": "37d928c9-93fe-49d2-9328-4beb6d2b97d9"
      },
      "execution_count": 38,
      "outputs": [
        {
          "output_type": "stream",
          "name": "stdout",
          "text": [
            "Transformation from train data result:\n",
            "  (0, 13999)\t0.3710208059516952\n",
            "  (0, 1274)\t0.565489879618975\n",
            "  (0, 10731)\t0.6704307646235087\n",
            "  (0, 2224)\t0.15148418630692248\n",
            "  (0, 13417)\t0.15457017973639253\n",
            "  (0, 5368)\t0.21505336147337484\n",
            "  (1, 10027)\t0.20870617392446913\n",
            "  (1, 6529)\t0.19864638419231873\n",
            "  (1, 4337)\t0.1991846095811982\n",
            "  (1, 16727)\t0.23213710176684413\n",
            "  (1, 3427)\t0.31829490697742846\n",
            "  (1, 1833)\t0.3066048243354853\n",
            "  (1, 15442)\t0.06614956133719693\n",
            "  (1, 1083)\t0.2955546828371225\n",
            "  (1, 1690)\t0.2901285782426623\n",
            "  (1, 6550)\t0.17908241864369337\n",
            "  (1, 1691)\t0.18411711756527996\n",
            "  (1, 4521)\t0.37462756444696077\n",
            "  (1, 12604)\t0.17440652777822194\n",
            "  (1, 5396)\t0.3911038105397837\n",
            "  (1, 15971)\t0.23874112717766482\n",
            "  (1, 13417)\t0.07419919282535323\n",
            "  (2, 2661)\t0.3720143426528039\n",
            "  (2, 643)\t0.28009026534298115\n",
            "  (2, 4675)\t0.3890206137352812\n",
            "  :\t:\n",
            "  (11132, 11721)\t0.2111359510797685\n",
            "  (11132, 11429)\t0.19500720846097755\n",
            "  (11132, 2549)\t0.3571691290110452\n",
            "  (11132, 12343)\t0.3568083067740748\n",
            "  (11132, 6499)\t0.22916620575302007\n",
            "  (11132, 15634)\t0.11399458415466929\n",
            "  (11132, 13417)\t0.18085460078105975\n",
            "  (11132, 5368)\t0.25162285443558263\n",
            "  (11133, 8362)\t0.43777521864311963\n",
            "  (11133, 15618)\t0.3268799956428233\n",
            "  (11133, 16660)\t0.3113422982430297\n",
            "  (11133, 16717)\t0.23213044774437439\n",
            "  (11133, 3203)\t0.3159786586759369\n",
            "  (11133, 14497)\t0.20380469318537842\n",
            "  (11133, 12878)\t0.27954556577849893\n",
            "  (11133, 10933)\t0.2516973822012851\n",
            "  (11133, 4545)\t0.248948287996472\n",
            "  (11133, 7033)\t0.18289806706784006\n",
            "  (11133, 1235)\t0.1868221347989441\n",
            "  (11133, 7610)\t0.19465271679783117\n",
            "  (11133, 11810)\t0.1443828600586866\n",
            "  (11133, 14002)\t0.22237494545636263\n",
            "  (11133, 2224)\t0.084975203268346\n",
            "  (11133, 13417)\t0.08670629431716799\n",
            "  (11133, 5368)\t0.12063439458766809\n",
            "\n",
            " feature from vector TF-IDF:\n",
            "['00' '000' '08' ... 'zx' 'zxyn' 'zypastiwin']\n"
          ]
        }
      ]
    },
    {
      "cell_type": "markdown",
      "source": [
        "## **Initiate SVM (Linear) Model**"
      ],
      "metadata": {
        "id": "2pDUY11To7Gx"
      }
    },
    {
      "cell_type": "code",
      "source": [
        "svm_model = SVC(kernel='linear', random_state=42)\n",
        "\n",
        "svm_model.fit(X_train_tfidf, y_train)\n",
        "\n",
        "# print model parameter\n",
        "print(\"Parameter model SVM:\")\n",
        "print(f\"Kernel: {svm_model.kernel}\")\n",
        "print(f\"C:{svm_model.C}\")\n",
        "print(f\"Intercept: {svm_model.intercept_}\")\n",
        "print(f\" Support Vector: {svm_model.support_vectors_}\")"
      ],
      "metadata": {
        "colab": {
          "base_uri": "https://localhost:8080/"
        },
        "id": "9Tjui6rNnuA4",
        "outputId": "9c0219cc-12b4-4f64-e5b1-82b656696fd2"
      },
      "execution_count": 39,
      "outputs": [
        {
          "output_type": "stream",
          "name": "stdout",
          "text": [
            "Parameter model SVM:\n",
            "Kernel: linear\n",
            "C:1.0\n",
            "Intercept: [-0.60369541 -0.04907796  0.54825673]\n",
            " Support Vector:   (0, 1274)\t0.565489879618975\n",
            "  (0, 2224)\t0.15148418630692248\n",
            "  (0, 5368)\t0.21505336147337484\n",
            "  (0, 10731)\t0.6704307646235087\n",
            "  (0, 13417)\t0.15457017973639253\n",
            "  (0, 13999)\t0.3710208059516952\n",
            "  (1, 149)\t0.35681701804114413\n",
            "  (1, 377)\t0.35681701804114413\n",
            "  (1, 2585)\t0.3064307295240558\n",
            "  (1, 3062)\t0.23359218157292946\n",
            "  (1, 6499)\t0.1936605223495812\n",
            "  (1, 6835)\t0.3157692920869704\n",
            "  (1, 6836)\t0.3737857417924986\n",
            "  (1, 7488)\t0.1130605558208003\n",
            "  (1, 7531)\t0.13518707500101396\n",
            "  (1, 10774)\t0.23433290926640937\n",
            "  (1, 10943)\t0.2734337715363062\n",
            "  (1, 11084)\t0.21155849057600315\n",
            "  (1, 13417)\t0.152834037381288\n",
            "  (1, 14381)\t0.18823159200570933\n",
            "  (1, 15442)\t0.13625356483272272\n",
            "  (1, 15634)\t0.1926658482639351\n",
            "  (2, 77)\t0.12175828552551382\n",
            "  (2, 806)\t0.1676946163291283\n",
            "  (2, 939)\t0.22618571323427966\n",
            "  :\t:\n",
            "  (7985, 11750)\t0.22916034954057246\n",
            "  (7985, 11810)\t0.2632373850977043\n",
            "  (7985, 13417)\t0.07904102390784452\n",
            "  (7985, 14078)\t0.2639792894266812\n",
            "  (7985, 14497)\t0.18578733820258328\n",
            "  (7985, 14595)\t0.3990736981153788\n",
            "  (7985, 15171)\t0.23365785826121957\n",
            "  (7985, 15442)\t0.0704661177575542\n",
            "  (7986, 1235)\t0.1868221347989441\n",
            "  (7986, 2224)\t0.084975203268346\n",
            "  (7986, 3203)\t0.3159786586759369\n",
            "  (7986, 4545)\t0.248948287996472\n",
            "  (7986, 5368)\t0.12063439458766809\n",
            "  (7986, 7033)\t0.18289806706784006\n",
            "  (7986, 7610)\t0.19465271679783117\n",
            "  (7986, 8362)\t0.43777521864311963\n",
            "  (7986, 10933)\t0.2516973822012851\n",
            "  (7986, 11810)\t0.1443828600586866\n",
            "  (7986, 12878)\t0.27954556577849893\n",
            "  (7986, 13417)\t0.08670629431716799\n",
            "  (7986, 14002)\t0.22237494545636263\n",
            "  (7986, 14497)\t0.20380469318537842\n",
            "  (7986, 15618)\t0.3268799956428233\n",
            "  (7986, 16660)\t0.3113422982430297\n",
            "  (7986, 16717)\t0.23213044774437439\n"
          ]
        }
      ]
    },
    {
      "cell_type": "markdown",
      "source": [
        "## **Model prediction on test data after vectorisation**"
      ],
      "metadata": {
        "id": "5uCVPGDTrYGB"
      }
    },
    {
      "cell_type": "code",
      "source": [
        "y_pred= svm_model.predict(X_test_tfidf)\n",
        "\n",
        "print(\"Example Prediction on test data:\")\n",
        "print(y_pred[:10])\n"
      ],
      "metadata": {
        "colab": {
          "base_uri": "https://localhost:8080/"
        },
        "id": "ocOn8Ulbqm4g",
        "outputId": "a54c6832-6dad-445a-fb4b-87146f5c2b2f"
      },
      "execution_count": 40,
      "outputs": [
        {
          "output_type": "stream",
          "name": "stdout",
          "text": [
            "Example Prediction on test data:\n",
            "['Negative' 'Neutral' 'Negative' 'Positive' 'Positive' 'Positive'\n",
            " 'Positive' 'Neutral' 'Positive' 'Neutral']\n"
          ]
        }
      ]
    },
    {
      "cell_type": "markdown",
      "source": [
        "# **Evaluate SVM Model Performance**"
      ],
      "metadata": {
        "id": "mhLWSw1DsEFp"
      }
    },
    {
      "cell_type": "code",
      "source": [
        "accuracy= accuracy_score(y_test, y_pred)\n",
        "print(f'Accuracy; {accuracy:.2f}')"
      ],
      "metadata": {
        "colab": {
          "base_uri": "https://localhost:8080/"
        },
        "id": "xcgvbD7Yr_A-",
        "outputId": "6e2fc4cb-3d04-4445-8552-2bc962dbca45"
      },
      "execution_count": 41,
      "outputs": [
        {
          "output_type": "stream",
          "name": "stdout",
          "text": [
            "Accuracy; 0.82\n"
          ]
        }
      ]
    },
    {
      "cell_type": "markdown",
      "source": [
        "# **Classification Report On SVM Model**"
      ],
      "metadata": {
        "id": "hEw88gtSsp_O"
      }
    },
    {
      "cell_type": "code",
      "source": [
        "print(classification_report(y_test,y_pred))"
      ],
      "metadata": {
        "colab": {
          "base_uri": "https://localhost:8080/"
        },
        "id": "cjTtUoZLsi-m",
        "outputId": "9a9dfa5d-c924-433c-8534-834e38b743de"
      },
      "execution_count": 42,
      "outputs": [
        {
          "output_type": "stream",
          "name": "stdout",
          "text": [
            "              precision    recall  f1-score   support\n",
            "\n",
            "    Negative       0.85      0.86      0.85      2296\n",
            "     Neutral       0.76      0.80      0.78      1015\n",
            "    Positive       0.81      0.76      0.78      1462\n",
            "\n",
            "    accuracy                           0.82      4773\n",
            "   macro avg       0.81      0.81      0.81      4773\n",
            "weighted avg       0.82      0.82      0.82      4773\n",
            "\n"
          ]
        }
      ]
    },
    {
      "cell_type": "markdown",
      "source": [
        "# **Evaluate confussion metrix for SVM**"
      ],
      "metadata": {
        "id": "jG8jzS-Itfj-"
      }
    },
    {
      "cell_type": "code",
      "source": [
        "conf_matrix_svm = confusion_matrix(y_test, y_pred)\n",
        "\n",
        "print(\"Confusion Metrix For SVM\")\n",
        "print(conf_matrix_svm)"
      ],
      "metadata": {
        "colab": {
          "base_uri": "https://localhost:8080/"
        },
        "id": "-nczuJn_s-lD",
        "outputId": "7e2c4795-fbe2-4f87-f105-4dd0624e9562"
      },
      "execution_count": 43,
      "outputs": [
        {
          "output_type": "stream",
          "name": "stdout",
          "text": [
            "Confusion Metrix For SVM\n",
            "[[1975  138  183]\n",
            " [ 128  813   74]\n",
            " [ 232  122 1108]]\n"
          ]
        }
      ]
    },
    {
      "cell_type": "code",
      "source": [
        "# plot confussion matrix SVM\n",
        "plt.figure(figsize=(8,6))\n",
        "sns.heatmap(conf_matrix_svm, annot=True, fmt='d', cmap='YlOrBr', xticklabels=['Negative', 'Neutral', 'Positive'], yticklabels=['Negative', 'Neutral', 'Positive'] )\n",
        "plt.title('Confussion Matrix SVM')\n",
        "plt.xlabel('Predictions')\n",
        "plt.ylabel('Actual')\n",
        "plt.show()"
      ],
      "metadata": {
        "colab": {
          "base_uri": "https://localhost:8080/",
          "height": 564
        },
        "id": "rSgho1_QuWRu",
        "outputId": "ba569496-4980-433c-c3c6-70125f61e605"
      },
      "execution_count": 44,
      "outputs": [
        {
          "output_type": "display_data",
          "data": {
            "text/plain": [
              "<Figure size 800x600 with 2 Axes>"
            ],
            "image/png": "[encoded data removed]"
          },
          "metadata": {}
        }
      ]
    },
    {
      "cell_type": "code",
      "source": [],
      "metadata": {
        "id": "fV0k9aozumS5"
      },
      "execution_count": 44,
      "outputs": []
    }
  ]
}